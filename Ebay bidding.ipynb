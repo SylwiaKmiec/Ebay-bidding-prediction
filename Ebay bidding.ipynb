{
 "cells": [
  {
   "cell_type": "markdown",
   "id": "82ee13d7",
   "metadata": {},
   "source": [
    "#### Problem statement\n",
    "\n",
    "Online retailer, eBay is providing an option of bidding to their customers globally. Bidding is employed to find\n",
    "the real price of items in the market based on the demand. The price offered by anyone participating in this\n",
    "process is termed as a 'bid'. A dataset is available at the following link and on Moodle for the bidding of\n",
    "customers:\n",
    "https://archive.ics.uci.edu/ml/datasets/Shill+Bidding+Dataset\n",
    "Normal bids are classified as ‘0’ bids in the data set and anomalous bids as ‘1’. Your goal is to use classification\n",
    "or clustering algorithms to predict the bids in the future. You would need to clean and prepare the dataset\n",
    "for the machine learning modelling under the following guidelines for Data Preparation and Machine\n",
    "Learning modules.\n"
   ]
  },
  {
   "cell_type": "markdown",
   "id": "86e71abd",
   "metadata": {},
   "source": [
    "### TABLE OF CONTENTS:\n",
    "\n",
    "1. Data Dictionary\n",
    "2. Part 1: Exploratory Data Analysis - EDA\n",
    "3. Part 2: Data Preparation\n",
    "        A: Renaming\n",
    "        B: Encoding\n",
    "        C: Dropping Columns\n",
    "        D: Applying scaler on the dataset\n",
    "4. Part 3: Visualizations of Key Variables\n",
    "        A: Class distribution\n",
    "        B: Auction type popularity:\n",
    "        C: Starting Average price:\n",
    "        D: Relation between features using Pearson Correlation method\n",
    "5. Part 4: PCA\n",
    "        A: PCA for dimensionality reduction\n",
    "        B: PCA for visualization of the separation of the class\n",
    "6. Part 5: LDA\n",
    "7. Part 6: Machine Learning\n",
    "        A: splitting the data into train and test\n",
    "        B: Over-sampling: SMOTE\n",
    "        C: Implementing Support Vector Machine Model\n",
    "        D: Implementing Random Forest model\n",
    "        E: Implementing Naive Bayes model\n",
    "        F: Model Comparison\n",
    "8. Part 7: Findings and conclusion:\n",
    "9. References"
   ]
  },
  {
   "cell_type": "markdown",
   "id": "40b9affc",
   "metadata": {},
   "source": [
    "### Data Dictionary"
   ]
  },
  {
   "cell_type": "markdown",
   "id": "c1aa4339",
   "metadata": {},
   "source": [
    "<table>\n",
    "    <thead>\n",
    "        <tr>\n",
    "            <th>Dataframe</th>        \n",
    "            <th>Description</th>\n",
    "        </tr>\n",
    "    </thead>\n",
    "    <tbody>\n",
    "        <tr>\n",
    "            <td>df</td>\n",
    "            <td>Original dataframe created</td>\n",
    "          <tr>\n",
    "            <td>df1 </td>\n",
    "            <td>Dataframe created after applying Encoding</td>           \n",
    "           <tr>\n",
    "            <td>df2</td>\n",
    "            <td>Dataframe created after removal of columns</td>\n",
    "               <tr>\n",
    "            <td>X</td>\n",
    "            <td>Dataframe created after seperating target column</td>\n",
    "                   <tr>\n",
    "            <td>y</td>\n",
    "            <td>Dataframe created for our Target column</td>\n",
    "                       <tr>\n",
    "                           <td>X_scaled</td>\n",
    "            <td>Dataframe created after scaling of X</td>\n",
    "                   <tr>\n",
    "                       <td>X_scaled_df</td>\n",
    "            <td>Dataframe created to review scaled values in the dataframe</td>\n",
    "                   <tr>\n",
    "            <td>pca_1</td>\n",
    "            <td>dataframe after applying PCA for dimention reduction purposes</td>\n",
    "                           <tr>\n",
    "            <td>pca_2</td>\n",
    "            <td>Dataframe created after application of PCA for two dimentional visualisation of our Class</td>\n",
    "                               <tr>\n",
    "            <td>X_lda</td>\n",
    "            <td>Dataframe created after application of LDA process on the data</td>"
   ]
  },
  {
   "cell_type": "markdown",
   "id": "fcd53ede",
   "metadata": {},
   "source": [
    "### Part 1: Exploratory Data Analysis - EDA"
   ]
  },
  {
   "cell_type": "markdown",
   "id": "3d952010",
   "metadata": {},
   "source": [
    "Exploratory Data Analysis is used to analyse datasets and outline the main characteristics of the data. It helps in understanding the patterns within the data, identify evident errors and find correlation between features. Conducting EDA is one of the first steps we do with any dataset we work with in order to explore the data as it enables us to acknowledge what kind of data we are dealing with by checking the shape and size of the data, identifying missing values, unique values and others.\n",
    "\n",
    "In order to conduct EDA first step needed is to import the required libraries:\n",
    "\n",
    "Pandas is used to clean the data, manipulate into tables and process it. It handles data load by reading from various sources; Seaborn library is used for data visualisation; Matplot is also used for data visualisation; %matplotlib inline is used to format the visualisations; Numpy is used for mathematical operations.\n",
    "\n",
    "By importing the libraries with a short name allows us to save typing the full name of the library every time we need to call it in a function."
   ]
  },
  {
   "cell_type": "code",
   "execution_count": 2,
   "id": "68dbbe06",
   "metadata": {},
   "outputs": [],
   "source": [
    "import pandas as pd\n",
    "import numpy as np\n",
    "import matplotlib.pyplot as plt\n",
    "import seaborn as sns\n",
    "%matplotlib inline"
   ]
  },
  {
   "cell_type": "markdown",
   "id": "962d1e20",
   "metadata": {},
   "source": [
    "Suppress the warning messages"
   ]
  },
  {
   "cell_type": "code",
   "execution_count": 3,
   "id": "249aec29",
   "metadata": {},
   "outputs": [],
   "source": [
    "import warnings\n",
    "warnings.filterwarnings('ignore') "
   ]
  },
  {
   "cell_type": "markdown",
   "id": "cbbe6ad6",
   "metadata": {},
   "source": [
    "By running the code below the data from the dataset is uploaded into the dataframe using Pandas Library. A dataframe object is created transferring semi structured data (in this case a csv file) into a structured type of data.\n",
    "\n",
    "pd.read_csv works for any data file that is a csv type using Pandas library by giving an address where the data is."
   ]
  },
  {
   "cell_type": "code",
   "execution_count": 4,
   "id": "95f0701c",
   "metadata": {},
   "outputs": [],
   "source": [
    "df = pd.read_csv('Shill Bidding Dataset.csv')"
   ]
  },
  {
   "cell_type": "markdown",
   "id": "553f81ee",
   "metadata": {},
   "source": [
    "To check how many columns and observations are in this dataset we can use .shape function. The first number shows the number of rows or observations and the second one shows the total number of columns within the dataset. This dataset as we can see has 6321 observations and 13 columns."
   ]
  },
  {
   "cell_type": "code",
   "execution_count": 5,
   "id": "471a863a",
   "metadata": {},
   "outputs": [
    {
     "data": {
      "text/plain": [
       "(6321, 13)"
      ]
     },
     "execution_count": 5,
     "metadata": {},
     "output_type": "execute_result"
    }
   ],
   "source": [
    "df.shape"
   ]
  },
  {
   "cell_type": "markdown",
   "id": "2542a364",
   "metadata": {},
   "source": [
    "Now to read the data we need to call the dataframe created \"df\" and the function .head to see what is available within this dataset. Changing the argument in between brackets allows us to add the number of rows we want to see. If we do not add a number between brackets by default the function will show the top 5 rows within the dataset (all indexes start with zero)."
   ]
  },
  {
   "cell_type": "code",
   "execution_count": 6,
   "id": "16fb8f3e",
   "metadata": {},
   "outputs": [
    {
     "data": {
      "text/html": [
       "<div>\n",
       "<style scoped>\n",
       "    .dataframe tbody tr th:only-of-type {\n",
       "        vertical-align: middle;\n",
       "    }\n",
       "\n",
       "    .dataframe tbody tr th {\n",
       "        vertical-align: top;\n",
       "    }\n",
       "\n",
       "    .dataframe thead th {\n",
       "        text-align: right;\n",
       "    }\n",
       "</style>\n",
       "<table border=\"1\" class=\"dataframe\">\n",
       "  <thead>\n",
       "    <tr style=\"text-align: right;\">\n",
       "      <th></th>\n",
       "      <th>Record_ID</th>\n",
       "      <th>Auction_ID</th>\n",
       "      <th>Bidder_ID</th>\n",
       "      <th>Bidder_Tendency</th>\n",
       "      <th>Bidding_Ratio</th>\n",
       "      <th>Successive_Outbidding</th>\n",
       "      <th>Last_Bidding</th>\n",
       "      <th>Auction_Bids</th>\n",
       "      <th>Starting_Price_Average</th>\n",
       "      <th>Early_Bidding</th>\n",
       "      <th>Winning_Ratio</th>\n",
       "      <th>Auction_Duration</th>\n",
       "      <th>Class</th>\n",
       "    </tr>\n",
       "  </thead>\n",
       "  <tbody>\n",
       "    <tr>\n",
       "      <th>0</th>\n",
       "      <td>1</td>\n",
       "      <td>732</td>\n",
       "      <td>_***i</td>\n",
       "      <td>0.20000</td>\n",
       "      <td>0.4</td>\n",
       "      <td>0.0</td>\n",
       "      <td>0.000028</td>\n",
       "      <td>0.0</td>\n",
       "      <td>0.993593</td>\n",
       "      <td>0.000028</td>\n",
       "      <td>0.666667</td>\n",
       "      <td>5</td>\n",
       "      <td>0</td>\n",
       "    </tr>\n",
       "    <tr>\n",
       "      <th>1</th>\n",
       "      <td>2</td>\n",
       "      <td>732</td>\n",
       "      <td>g***r</td>\n",
       "      <td>0.02439</td>\n",
       "      <td>0.2</td>\n",
       "      <td>0.0</td>\n",
       "      <td>0.013123</td>\n",
       "      <td>0.0</td>\n",
       "      <td>0.993593</td>\n",
       "      <td>0.013123</td>\n",
       "      <td>0.944444</td>\n",
       "      <td>5</td>\n",
       "      <td>0</td>\n",
       "    </tr>\n",
       "  </tbody>\n",
       "</table>\n",
       "</div>"
      ],
      "text/plain": [
       "   Record_ID  Auction_ID Bidder_ID  Bidder_Tendency  Bidding_Ratio  \\\n",
       "0          1         732     _***i          0.20000            0.4   \n",
       "1          2         732     g***r          0.02439            0.2   \n",
       "\n",
       "   Successive_Outbidding  Last_Bidding  Auction_Bids  Starting_Price_Average  \\\n",
       "0                    0.0      0.000028           0.0                0.993593   \n",
       "1                    0.0      0.013123           0.0                0.993593   \n",
       "\n",
       "   Early_Bidding  Winning_Ratio  Auction_Duration  Class  \n",
       "0       0.000028       0.666667                 5      0  \n",
       "1       0.013123       0.944444                 5      0  "
      ]
     },
     "execution_count": 6,
     "metadata": {},
     "output_type": "execute_result"
    }
   ],
   "source": [
    "df.head(2)"
   ]
  },
  {
   "cell_type": "markdown",
   "id": "88686ed3",
   "metadata": {},
   "source": [
    "In order to display the bottom 5 rows of the dataset the function .tail is used. Like function .head by default .tail shows 5 entries in the dataset. It also can be changed by modifying the argument number between brackets."
   ]
  },
  {
   "cell_type": "code",
   "execution_count": 7,
   "id": "8ba76403",
   "metadata": {},
   "outputs": [
    {
     "data": {
      "text/html": [
       "<div>\n",
       "<style scoped>\n",
       "    .dataframe tbody tr th:only-of-type {\n",
       "        vertical-align: middle;\n",
       "    }\n",
       "\n",
       "    .dataframe tbody tr th {\n",
       "        vertical-align: top;\n",
       "    }\n",
       "\n",
       "    .dataframe thead th {\n",
       "        text-align: right;\n",
       "    }\n",
       "</style>\n",
       "<table border=\"1\" class=\"dataframe\">\n",
       "  <thead>\n",
       "    <tr style=\"text-align: right;\">\n",
       "      <th></th>\n",
       "      <th>Record_ID</th>\n",
       "      <th>Auction_ID</th>\n",
       "      <th>Bidder_ID</th>\n",
       "      <th>Bidder_Tendency</th>\n",
       "      <th>Bidding_Ratio</th>\n",
       "      <th>Successive_Outbidding</th>\n",
       "      <th>Last_Bidding</th>\n",
       "      <th>Auction_Bids</th>\n",
       "      <th>Starting_Price_Average</th>\n",
       "      <th>Early_Bidding</th>\n",
       "      <th>Winning_Ratio</th>\n",
       "      <th>Auction_Duration</th>\n",
       "      <th>Class</th>\n",
       "    </tr>\n",
       "  </thead>\n",
       "  <tbody>\n",
       "    <tr>\n",
       "      <th>6319</th>\n",
       "      <td>15139</td>\n",
       "      <td>2481</td>\n",
       "      <td>d***d</td>\n",
       "      <td>0.076923</td>\n",
       "      <td>0.086957</td>\n",
       "      <td>0.0</td>\n",
       "      <td>0.068694</td>\n",
       "      <td>0.217391</td>\n",
       "      <td>0.993593</td>\n",
       "      <td>0.000415</td>\n",
       "      <td>0.0</td>\n",
       "      <td>7</td>\n",
       "      <td>0</td>\n",
       "    </tr>\n",
       "    <tr>\n",
       "      <th>6320</th>\n",
       "      <td>15144</td>\n",
       "      <td>2481</td>\n",
       "      <td>a***l</td>\n",
       "      <td>0.016393</td>\n",
       "      <td>0.043478</td>\n",
       "      <td>0.0</td>\n",
       "      <td>0.340351</td>\n",
       "      <td>0.217391</td>\n",
       "      <td>0.993593</td>\n",
       "      <td>0.340351</td>\n",
       "      <td>0.0</td>\n",
       "      <td>7</td>\n",
       "      <td>0</td>\n",
       "    </tr>\n",
       "  </tbody>\n",
       "</table>\n",
       "</div>"
      ],
      "text/plain": [
       "      Record_ID  Auction_ID Bidder_ID  Bidder_Tendency  Bidding_Ratio  \\\n",
       "6319      15139        2481     d***d         0.076923       0.086957   \n",
       "6320      15144        2481     a***l         0.016393       0.043478   \n",
       "\n",
       "      Successive_Outbidding  Last_Bidding  Auction_Bids  \\\n",
       "6319                    0.0      0.068694      0.217391   \n",
       "6320                    0.0      0.340351      0.217391   \n",
       "\n",
       "      Starting_Price_Average  Early_Bidding  Winning_Ratio  Auction_Duration  \\\n",
       "6319                0.993593       0.000415            0.0                 7   \n",
       "6320                0.993593       0.340351            0.0                 7   \n",
       "\n",
       "      Class  \n",
       "6319      0  \n",
       "6320      0  "
      ]
     },
     "execution_count": 7,
     "metadata": {},
     "output_type": "execute_result"
    }
   ],
   "source": [
    "df.tail(2)"
   ]
  },
  {
   "cell_type": "markdown",
   "id": "c518bc80",
   "metadata": {},
   "source": [
    "The .info is another function to check the data. The first column is the index for each feature we have, the second column shows the variable name and the third column gives the data type, if it is an object means the data is text, float64 is a decimal number and int64 when it is whole number.\n",
    "\n",
    "It is useful information in order to start preparing the data. According to the below, this dataset has 1 feature that is text (object) therefore qualitative data; 4 features that contain whole numbers (int64) and 8 features with decimal numbers (float64) which means both quantitative data. Also shows there are no null(missing) values and gives how much memory is being used in the computer."
   ]
  },
  {
   "cell_type": "code",
   "execution_count": 8,
   "id": "18c5aecc",
   "metadata": {},
   "outputs": [
    {
     "name": "stdout",
     "output_type": "stream",
     "text": [
      "<class 'pandas.core.frame.DataFrame'>\n",
      "RangeIndex: 6321 entries, 0 to 6320\n",
      "Data columns (total 13 columns):\n",
      " #   Column                  Non-Null Count  Dtype  \n",
      "---  ------                  --------------  -----  \n",
      " 0   Record_ID               6321 non-null   int64  \n",
      " 1   Auction_ID              6321 non-null   int64  \n",
      " 2   Bidder_ID               6321 non-null   object \n",
      " 3   Bidder_Tendency         6321 non-null   float64\n",
      " 4   Bidding_Ratio           6321 non-null   float64\n",
      " 5   Successive_Outbidding   6321 non-null   float64\n",
      " 6   Last_Bidding            6321 non-null   float64\n",
      " 7   Auction_Bids            6321 non-null   float64\n",
      " 8   Starting_Price_Average  6321 non-null   float64\n",
      " 9   Early_Bidding           6321 non-null   float64\n",
      " 10  Winning_Ratio           6321 non-null   float64\n",
      " 11  Auction_Duration        6321 non-null   int64  \n",
      " 12  Class                   6321 non-null   int64  \n",
      "dtypes: float64(8), int64(4), object(1)\n",
      "memory usage: 642.1+ KB\n"
     ]
    }
   ],
   "source": [
    "df.info()"
   ]
  },
  {
   "cell_type": "markdown",
   "id": "be2e6741",
   "metadata": {},
   "source": [
    "As there are no missing values in our dataset, the next step is to check if there are any duplicated records:"
   ]
  },
  {
   "cell_type": "markdown",
   "id": "230a423d",
   "metadata": {},
   "source": [
    "After running the .duplicate() function below we can see that the first number shows the number of duplicates, which is 0 rows and the second column shows the total number of columns, which are 13.<br>\n",
    "This means there are not duplicates. <br>\n",
    "There is not action needed here."
   ]
  },
  {
   "cell_type": "code",
   "execution_count": 9,
   "id": "4700f70f",
   "metadata": {},
   "outputs": [
    {
     "name": "stdout",
     "output_type": "stream",
     "text": [
      "Number of duplicate rows:  (0, 13)\n"
     ]
    }
   ],
   "source": [
    "df_dup = df[df.duplicated()]\n",
    "print(\"Number of duplicate rows: \", df_dup.shape)"
   ]
  },
  {
   "cell_type": "markdown",
   "id": "fd690578",
   "metadata": {},
   "source": [
    "To check basic statistics we can use .describe() method which will show:\n",
    "- number of records\n",
    "- average value of the column\n",
    "- Standard deviation of our feature\n",
    "- minimum value\n",
    "- the 25%, 50% and 75% \n",
    "- the maximum value in the column."
   ]
  },
  {
   "cell_type": "code",
   "execution_count": 10,
   "id": "4d79079c",
   "metadata": {},
   "outputs": [
    {
     "data": {
      "text/html": [
       "<div>\n",
       "<style scoped>\n",
       "    .dataframe tbody tr th:only-of-type {\n",
       "        vertical-align: middle;\n",
       "    }\n",
       "\n",
       "    .dataframe tbody tr th {\n",
       "        vertical-align: top;\n",
       "    }\n",
       "\n",
       "    .dataframe thead th {\n",
       "        text-align: right;\n",
       "    }\n",
       "</style>\n",
       "<table border=\"1\" class=\"dataframe\">\n",
       "  <thead>\n",
       "    <tr style=\"text-align: right;\">\n",
       "      <th></th>\n",
       "      <th>Record_ID</th>\n",
       "      <th>Auction_ID</th>\n",
       "      <th>Bidder_Tendency</th>\n",
       "      <th>Bidding_Ratio</th>\n",
       "      <th>Successive_Outbidding</th>\n",
       "      <th>Last_Bidding</th>\n",
       "      <th>Auction_Bids</th>\n",
       "      <th>Starting_Price_Average</th>\n",
       "      <th>Early_Bidding</th>\n",
       "      <th>Winning_Ratio</th>\n",
       "      <th>Auction_Duration</th>\n",
       "      <th>Class</th>\n",
       "    </tr>\n",
       "  </thead>\n",
       "  <tbody>\n",
       "    <tr>\n",
       "      <th>count</th>\n",
       "      <td>6321.000000</td>\n",
       "      <td>6321.000000</td>\n",
       "      <td>6321.000000</td>\n",
       "      <td>6321.000000</td>\n",
       "      <td>6321.000000</td>\n",
       "      <td>6321.000000</td>\n",
       "      <td>6321.000000</td>\n",
       "      <td>6321.000000</td>\n",
       "      <td>6321.000000</td>\n",
       "      <td>6321.000000</td>\n",
       "      <td>6321.000000</td>\n",
       "      <td>6321.000000</td>\n",
       "    </tr>\n",
       "    <tr>\n",
       "      <th>mean</th>\n",
       "      <td>7535.829457</td>\n",
       "      <td>1241.388230</td>\n",
       "      <td>0.142541</td>\n",
       "      <td>0.127670</td>\n",
       "      <td>0.103781</td>\n",
       "      <td>0.463119</td>\n",
       "      <td>0.231606</td>\n",
       "      <td>0.472821</td>\n",
       "      <td>0.430683</td>\n",
       "      <td>0.367731</td>\n",
       "      <td>4.615093</td>\n",
       "      <td>0.106787</td>\n",
       "    </tr>\n",
       "    <tr>\n",
       "      <th>std</th>\n",
       "      <td>4364.759137</td>\n",
       "      <td>735.770789</td>\n",
       "      <td>0.197084</td>\n",
       "      <td>0.131530</td>\n",
       "      <td>0.279698</td>\n",
       "      <td>0.380097</td>\n",
       "      <td>0.255252</td>\n",
       "      <td>0.489912</td>\n",
       "      <td>0.380785</td>\n",
       "      <td>0.436573</td>\n",
       "      <td>2.466629</td>\n",
       "      <td>0.308867</td>\n",
       "    </tr>\n",
       "    <tr>\n",
       "      <th>min</th>\n",
       "      <td>1.000000</td>\n",
       "      <td>5.000000</td>\n",
       "      <td>0.000000</td>\n",
       "      <td>0.011765</td>\n",
       "      <td>0.000000</td>\n",
       "      <td>0.000000</td>\n",
       "      <td>0.000000</td>\n",
       "      <td>0.000000</td>\n",
       "      <td>0.000000</td>\n",
       "      <td>0.000000</td>\n",
       "      <td>1.000000</td>\n",
       "      <td>0.000000</td>\n",
       "    </tr>\n",
       "    <tr>\n",
       "      <th>25%</th>\n",
       "      <td>3778.000000</td>\n",
       "      <td>589.000000</td>\n",
       "      <td>0.027027</td>\n",
       "      <td>0.043478</td>\n",
       "      <td>0.000000</td>\n",
       "      <td>0.047928</td>\n",
       "      <td>0.000000</td>\n",
       "      <td>0.000000</td>\n",
       "      <td>0.026620</td>\n",
       "      <td>0.000000</td>\n",
       "      <td>3.000000</td>\n",
       "      <td>0.000000</td>\n",
       "    </tr>\n",
       "    <tr>\n",
       "      <th>50%</th>\n",
       "      <td>7591.000000</td>\n",
       "      <td>1246.000000</td>\n",
       "      <td>0.062500</td>\n",
       "      <td>0.083333</td>\n",
       "      <td>0.000000</td>\n",
       "      <td>0.440937</td>\n",
       "      <td>0.142857</td>\n",
       "      <td>0.000000</td>\n",
       "      <td>0.360104</td>\n",
       "      <td>0.000000</td>\n",
       "      <td>5.000000</td>\n",
       "      <td>0.000000</td>\n",
       "    </tr>\n",
       "    <tr>\n",
       "      <th>75%</th>\n",
       "      <td>11277.000000</td>\n",
       "      <td>1867.000000</td>\n",
       "      <td>0.166667</td>\n",
       "      <td>0.166667</td>\n",
       "      <td>0.000000</td>\n",
       "      <td>0.860363</td>\n",
       "      <td>0.454545</td>\n",
       "      <td>0.993593</td>\n",
       "      <td>0.826761</td>\n",
       "      <td>0.851852</td>\n",
       "      <td>7.000000</td>\n",
       "      <td>0.000000</td>\n",
       "    </tr>\n",
       "    <tr>\n",
       "      <th>max</th>\n",
       "      <td>15144.000000</td>\n",
       "      <td>2538.000000</td>\n",
       "      <td>1.000000</td>\n",
       "      <td>1.000000</td>\n",
       "      <td>1.000000</td>\n",
       "      <td>0.999900</td>\n",
       "      <td>0.788235</td>\n",
       "      <td>0.999935</td>\n",
       "      <td>0.999900</td>\n",
       "      <td>1.000000</td>\n",
       "      <td>10.000000</td>\n",
       "      <td>1.000000</td>\n",
       "    </tr>\n",
       "  </tbody>\n",
       "</table>\n",
       "</div>"
      ],
      "text/plain": [
       "          Record_ID   Auction_ID  Bidder_Tendency  Bidding_Ratio  \\\n",
       "count   6321.000000  6321.000000      6321.000000    6321.000000   \n",
       "mean    7535.829457  1241.388230         0.142541       0.127670   \n",
       "std     4364.759137   735.770789         0.197084       0.131530   \n",
       "min        1.000000     5.000000         0.000000       0.011765   \n",
       "25%     3778.000000   589.000000         0.027027       0.043478   \n",
       "50%     7591.000000  1246.000000         0.062500       0.083333   \n",
       "75%    11277.000000  1867.000000         0.166667       0.166667   \n",
       "max    15144.000000  2538.000000         1.000000       1.000000   \n",
       "\n",
       "       Successive_Outbidding  Last_Bidding  Auction_Bids  \\\n",
       "count            6321.000000   6321.000000   6321.000000   \n",
       "mean                0.103781      0.463119      0.231606   \n",
       "std                 0.279698      0.380097      0.255252   \n",
       "min                 0.000000      0.000000      0.000000   \n",
       "25%                 0.000000      0.047928      0.000000   \n",
       "50%                 0.000000      0.440937      0.142857   \n",
       "75%                 0.000000      0.860363      0.454545   \n",
       "max                 1.000000      0.999900      0.788235   \n",
       "\n",
       "       Starting_Price_Average  Early_Bidding  Winning_Ratio  Auction_Duration  \\\n",
       "count             6321.000000    6321.000000    6321.000000       6321.000000   \n",
       "mean                 0.472821       0.430683       0.367731          4.615093   \n",
       "std                  0.489912       0.380785       0.436573          2.466629   \n",
       "min                  0.000000       0.000000       0.000000          1.000000   \n",
       "25%                  0.000000       0.026620       0.000000          3.000000   \n",
       "50%                  0.000000       0.360104       0.000000          5.000000   \n",
       "75%                  0.993593       0.826761       0.851852          7.000000   \n",
       "max                  0.999935       0.999900       1.000000         10.000000   \n",
       "\n",
       "             Class  \n",
       "count  6321.000000  \n",
       "mean      0.106787  \n",
       "std       0.308867  \n",
       "min       0.000000  \n",
       "25%       0.000000  \n",
       "50%       0.000000  \n",
       "75%       0.000000  \n",
       "max       1.000000  "
      ]
     },
     "execution_count": 10,
     "metadata": {},
     "output_type": "execute_result"
    }
   ],
   "source": [
    "df.describe()"
   ]
  },
  {
   "cell_type": "markdown",
   "id": "fb2682b4",
   "metadata": {},
   "source": [
    "### Part 2: Data Preparation"
   ]
  },
  {
   "cell_type": "markdown",
   "id": "e51fa3c4",
   "metadata": {},
   "source": [
    "#### A: Renaming"
   ]
  },
  {
   "cell_type": "markdown",
   "id": "9d736da2",
   "metadata": {},
   "source": [
    "To simplify the column names and also for better understanding of our features I will rename some of them:"
   ]
  },
  {
   "cell_type": "code",
   "execution_count": 11,
   "id": "1a0c0132",
   "metadata": {},
   "outputs": [],
   "source": [
    "df = df.rename(columns={'Bidder_Tendency':'Bid_Tendency','Bidding_Ratio':'Bid_Ratio', 'Successive_Outbidding':'Outbidding',\n",
    "                                        'Starting_Price_Average':'Start_Avg_Price', 'Auction_Duration' : 'Auction_Type'})"
   ]
  },
  {
   "cell_type": "markdown",
   "id": "828f5fb4",
   "metadata": {},
   "source": [
    "Reviewing the feature Bidder_ID feature - this is the only non-numerical feature in our dataset. <br>\n",
    "To remove any constrains in applying algorithms to our dataset the good practice is to convert that column into numerical type.\n"
   ]
  },
  {
   "cell_type": "markdown",
   "id": "108511a2",
   "metadata": {},
   "source": [
    "The method .describe() applied on categorical data will show us the number of records, number of unique values, and the value that appears most of the time."
   ]
  },
  {
   "cell_type": "code",
   "execution_count": 12,
   "id": "3a5952d6",
   "metadata": {},
   "outputs": [
    {
     "data": {
      "text/plain": [
       "count      6321\n",
       "unique     1054\n",
       "top       a***a\n",
       "freq        112\n",
       "Name: Bidder_ID, dtype: object"
      ]
     },
     "execution_count": 12,
     "metadata": {},
     "output_type": "execute_result"
    }
   ],
   "source": [
    "df['Bidder_ID'].describe()"
   ]
  },
  {
   "cell_type": "markdown",
   "id": "0b7d7382",
   "metadata": {},
   "source": [
    "#### B: Encoding"
   ]
  },
  {
   "cell_type": "markdown",
   "id": "627fe5b9",
   "metadata": {},
   "source": [
    "There are several way to Encode Categorical Data in Python:\n",
    "- Label Encoding or Ordinal Encoding\n",
    "- One hot Encoding\n",
    "- Dummy Encoding\n",
    "- Effect Encoding\n",
    "- Binary Encoding\n",
    "- BaseN Encoding\n",
    "- Hash Encoding\n",
    "- Target Encoding<br>\n",
    "\n",
    "Our feature has over 1 thousand unique values, the best way to encode categorical data with so many unique values is to use BaseN Encoding.<br>"
   ]
  },
  {
   "cell_type": "markdown",
   "id": "1aee3949",
   "metadata": {},
   "source": [
    "Base-N encoder encodes the categories into arrays of their base-N representation. A base of 1 is equivalent to one-hot encoding (not really base-1, but useful), a base of 2 is equivalent to binary encoding. N=number of actual categories is equivalent to vanilla ordinal encoding.<br>\n",
    "(McGinnis, W. 2016)\n"
   ]
  },
  {
   "cell_type": "markdown",
   "id": "5f606761",
   "metadata": {},
   "source": [
    "Importing needed library to be able to apply BaseN Encoder on our dataset."
   ]
  },
  {
   "cell_type": "code",
   "execution_count": 13,
   "id": "ae2fbcad",
   "metadata": {},
   "outputs": [],
   "source": [
    "import category_encoders as ce"
   ]
  },
  {
   "cell_type": "code",
   "execution_count": 14,
   "id": "56085d4d",
   "metadata": {},
   "outputs": [],
   "source": [
    "encoder = ce.BaseNEncoder(cols=['Bidder_ID'], return_df=True, base=8)"
   ]
  },
  {
   "cell_type": "code",
   "execution_count": 15,
   "id": "0c0b243c",
   "metadata": {},
   "outputs": [],
   "source": [
    "df1 = encoder.fit_transform(df)"
   ]
  },
  {
   "cell_type": "markdown",
   "id": "d5f90a36",
   "metadata": {},
   "source": [
    "Reviewing new dataframe with new created features:"
   ]
  },
  {
   "cell_type": "code",
   "execution_count": 16,
   "id": "0a1fb7c7",
   "metadata": {},
   "outputs": [
    {
     "data": {
      "text/html": [
       "<div>\n",
       "<style scoped>\n",
       "    .dataframe tbody tr th:only-of-type {\n",
       "        vertical-align: middle;\n",
       "    }\n",
       "\n",
       "    .dataframe tbody tr th {\n",
       "        vertical-align: top;\n",
       "    }\n",
       "\n",
       "    .dataframe thead th {\n",
       "        text-align: right;\n",
       "    }\n",
       "</style>\n",
       "<table border=\"1\" class=\"dataframe\">\n",
       "  <thead>\n",
       "    <tr style=\"text-align: right;\">\n",
       "      <th></th>\n",
       "      <th>Record_ID</th>\n",
       "      <th>Auction_ID</th>\n",
       "      <th>Bidder_ID_0</th>\n",
       "      <th>Bidder_ID_1</th>\n",
       "      <th>Bidder_ID_2</th>\n",
       "      <th>Bidder_ID_3</th>\n",
       "      <th>Bid_Tendency</th>\n",
       "      <th>Bid_Ratio</th>\n",
       "      <th>Outbidding</th>\n",
       "      <th>Last_Bidding</th>\n",
       "      <th>Auction_Bids</th>\n",
       "      <th>Start_Avg_Price</th>\n",
       "      <th>Early_Bidding</th>\n",
       "      <th>Winning_Ratio</th>\n",
       "      <th>Auction_Type</th>\n",
       "      <th>Class</th>\n",
       "    </tr>\n",
       "  </thead>\n",
       "  <tbody>\n",
       "    <tr>\n",
       "      <th>0</th>\n",
       "      <td>1</td>\n",
       "      <td>732</td>\n",
       "      <td>0</td>\n",
       "      <td>0</td>\n",
       "      <td>0</td>\n",
       "      <td>1</td>\n",
       "      <td>0.200000</td>\n",
       "      <td>0.400000</td>\n",
       "      <td>0.0</td>\n",
       "      <td>0.000028</td>\n",
       "      <td>0.0</td>\n",
       "      <td>0.993593</td>\n",
       "      <td>0.000028</td>\n",
       "      <td>0.666667</td>\n",
       "      <td>5</td>\n",
       "      <td>0</td>\n",
       "    </tr>\n",
       "    <tr>\n",
       "      <th>1</th>\n",
       "      <td>2</td>\n",
       "      <td>732</td>\n",
       "      <td>0</td>\n",
       "      <td>0</td>\n",
       "      <td>0</td>\n",
       "      <td>2</td>\n",
       "      <td>0.024390</td>\n",
       "      <td>0.200000</td>\n",
       "      <td>0.0</td>\n",
       "      <td>0.013123</td>\n",
       "      <td>0.0</td>\n",
       "      <td>0.993593</td>\n",
       "      <td>0.013123</td>\n",
       "      <td>0.944444</td>\n",
       "      <td>5</td>\n",
       "      <td>0</td>\n",
       "    </tr>\n",
       "    <tr>\n",
       "      <th>2</th>\n",
       "      <td>3</td>\n",
       "      <td>732</td>\n",
       "      <td>0</td>\n",
       "      <td>0</td>\n",
       "      <td>0</td>\n",
       "      <td>3</td>\n",
       "      <td>0.142857</td>\n",
       "      <td>0.200000</td>\n",
       "      <td>0.0</td>\n",
       "      <td>0.003042</td>\n",
       "      <td>0.0</td>\n",
       "      <td>0.993593</td>\n",
       "      <td>0.003042</td>\n",
       "      <td>1.000000</td>\n",
       "      <td>5</td>\n",
       "      <td>0</td>\n",
       "    </tr>\n",
       "    <tr>\n",
       "      <th>3</th>\n",
       "      <td>4</td>\n",
       "      <td>732</td>\n",
       "      <td>0</td>\n",
       "      <td>0</td>\n",
       "      <td>0</td>\n",
       "      <td>4</td>\n",
       "      <td>0.100000</td>\n",
       "      <td>0.200000</td>\n",
       "      <td>0.0</td>\n",
       "      <td>0.097477</td>\n",
       "      <td>0.0</td>\n",
       "      <td>0.993593</td>\n",
       "      <td>0.097477</td>\n",
       "      <td>1.000000</td>\n",
       "      <td>5</td>\n",
       "      <td>0</td>\n",
       "    </tr>\n",
       "    <tr>\n",
       "      <th>4</th>\n",
       "      <td>5</td>\n",
       "      <td>900</td>\n",
       "      <td>0</td>\n",
       "      <td>0</td>\n",
       "      <td>0</td>\n",
       "      <td>5</td>\n",
       "      <td>0.051282</td>\n",
       "      <td>0.222222</td>\n",
       "      <td>0.0</td>\n",
       "      <td>0.001318</td>\n",
       "      <td>0.0</td>\n",
       "      <td>0.000000</td>\n",
       "      <td>0.001242</td>\n",
       "      <td>0.500000</td>\n",
       "      <td>7</td>\n",
       "      <td>0</td>\n",
       "    </tr>\n",
       "  </tbody>\n",
       "</table>\n",
       "</div>"
      ],
      "text/plain": [
       "   Record_ID  Auction_ID  Bidder_ID_0  Bidder_ID_1  Bidder_ID_2  Bidder_ID_3  \\\n",
       "0          1         732            0            0            0            1   \n",
       "1          2         732            0            0            0            2   \n",
       "2          3         732            0            0            0            3   \n",
       "3          4         732            0            0            0            4   \n",
       "4          5         900            0            0            0            5   \n",
       "\n",
       "   Bid_Tendency  Bid_Ratio  Outbidding  Last_Bidding  Auction_Bids  \\\n",
       "0      0.200000   0.400000         0.0      0.000028           0.0   \n",
       "1      0.024390   0.200000         0.0      0.013123           0.0   \n",
       "2      0.142857   0.200000         0.0      0.003042           0.0   \n",
       "3      0.100000   0.200000         0.0      0.097477           0.0   \n",
       "4      0.051282   0.222222         0.0      0.001318           0.0   \n",
       "\n",
       "   Start_Avg_Price  Early_Bidding  Winning_Ratio  Auction_Type  Class  \n",
       "0         0.993593       0.000028       0.666667             5      0  \n",
       "1         0.993593       0.013123       0.944444             5      0  \n",
       "2         0.993593       0.003042       1.000000             5      0  \n",
       "3         0.993593       0.097477       1.000000             5      0  \n",
       "4         0.000000       0.001242       0.500000             7      0  "
      ]
     },
     "execution_count": 16,
     "metadata": {},
     "output_type": "execute_result"
    }
   ],
   "source": [
    "df1.head()"
   ]
  },
  {
   "cell_type": "markdown",
   "id": "106e8abb",
   "metadata": {},
   "source": [
    "After applying the method we can see that we have got 4 totally new columns related to Bidder_ID."
   ]
  },
  {
   "cell_type": "markdown",
   "id": "dc6e9ebf",
   "metadata": {},
   "source": [
    "Reviewing few new columns using method .value_counts(), that way I can see what kind of entries have been created and number of appearances."
   ]
  },
  {
   "cell_type": "code",
   "execution_count": 17,
   "id": "5ca5945d",
   "metadata": {},
   "outputs": [
    {
     "data": {
      "text/plain": [
       "0    4745\n",
       "1    1545\n",
       "2      31\n",
       "Name: Bidder_ID_0, dtype: int64"
      ]
     },
     "execution_count": 17,
     "metadata": {},
     "output_type": "execute_result"
    }
   ],
   "source": [
    "df1['Bidder_ID_0'].value_counts()"
   ]
  },
  {
   "cell_type": "code",
   "execution_count": 18,
   "id": "2f99ebf8",
   "metadata": {},
   "outputs": [
    {
     "data": {
      "text/plain": [
       "0    1291\n",
       "1    1127\n",
       "3     841\n",
       "2     772\n",
       "4     736\n",
       "5     592\n",
       "6     524\n",
       "7     438\n",
       "Name: Bidder_ID_1, dtype: int64"
      ]
     },
     "execution_count": 18,
     "metadata": {},
     "output_type": "execute_result"
    }
   ],
   "source": [
    "df1['Bidder_ID_1'].value_counts()"
   ]
  },
  {
   "cell_type": "markdown",
   "id": "ac7f26f4",
   "metadata": {},
   "source": [
    "Reviewing our dataset again using .info()."
   ]
  },
  {
   "cell_type": "code",
   "execution_count": 19,
   "id": "82a45138",
   "metadata": {},
   "outputs": [
    {
     "name": "stdout",
     "output_type": "stream",
     "text": [
      "<class 'pandas.core.frame.DataFrame'>\n",
      "RangeIndex: 6321 entries, 0 to 6320\n",
      "Data columns (total 16 columns):\n",
      " #   Column           Non-Null Count  Dtype  \n",
      "---  ------           --------------  -----  \n",
      " 0   Record_ID        6321 non-null   int64  \n",
      " 1   Auction_ID       6321 non-null   int64  \n",
      " 2   Bidder_ID_0      6321 non-null   int64  \n",
      " 3   Bidder_ID_1      6321 non-null   int64  \n",
      " 4   Bidder_ID_2      6321 non-null   int64  \n",
      " 5   Bidder_ID_3      6321 non-null   int64  \n",
      " 6   Bid_Tendency     6321 non-null   float64\n",
      " 7   Bid_Ratio        6321 non-null   float64\n",
      " 8   Outbidding       6321 non-null   float64\n",
      " 9   Last_Bidding     6321 non-null   float64\n",
      " 10  Auction_Bids     6321 non-null   float64\n",
      " 11  Start_Avg_Price  6321 non-null   float64\n",
      " 12  Early_Bidding    6321 non-null   float64\n",
      " 13  Winning_Ratio    6321 non-null   float64\n",
      " 14  Auction_Type     6321 non-null   int64  \n",
      " 15  Class            6321 non-null   int64  \n",
      "dtypes: float64(8), int64(8)\n",
      "memory usage: 790.2 KB\n"
     ]
    }
   ],
   "source": [
    "df1.info()"
   ]
  },
  {
   "cell_type": "markdown",
   "id": "7e501095",
   "metadata": {},
   "source": [
    "After another look and review of the Bidder_ID columns I've got to conclusion that at the end I cannot be sure that each of the unique bidders is actually unique due to the fact that part of the digits have been hidden under *  and it could be that a few different bidder IDs are actually under one unique record. For example: * a***a *  that appears over 100 times may belong to many bidders that their ID starts from a and end on a.<br>"
   ]
  },
  {
   "cell_type": "markdown",
   "id": "49b8c0d3",
   "metadata": {},
   "source": [
    "Instead I have decided to drop that feature from our dataset."
   ]
  },
  {
   "cell_type": "markdown",
   "id": "36c753c5",
   "metadata": {},
   "source": [
    "Also dropping the Record_ID and Auction_ID as there is no value in the information that these feature keep."
   ]
  },
  {
   "cell_type": "markdown",
   "id": "e3aacc35",
   "metadata": {},
   "source": [
    "#### C:  Dropping Columns"
   ]
  },
  {
   "cell_type": "code",
   "execution_count": 20,
   "id": "f416232d",
   "metadata": {},
   "outputs": [],
   "source": [
    "df2 = df.drop(columns= [\"Bidder_ID\", \"Record_ID\", \"Auction_ID\"],axis=1)   "
   ]
  },
  {
   "cell_type": "code",
   "execution_count": 21,
   "id": "d08005db",
   "metadata": {},
   "outputs": [
    {
     "name": "stdout",
     "output_type": "stream",
     "text": [
      "<class 'pandas.core.frame.DataFrame'>\n",
      "RangeIndex: 6321 entries, 0 to 6320\n",
      "Data columns (total 10 columns):\n",
      " #   Column           Non-Null Count  Dtype  \n",
      "---  ------           --------------  -----  \n",
      " 0   Bid_Tendency     6321 non-null   float64\n",
      " 1   Bid_Ratio        6321 non-null   float64\n",
      " 2   Outbidding       6321 non-null   float64\n",
      " 3   Last_Bidding     6321 non-null   float64\n",
      " 4   Auction_Bids     6321 non-null   float64\n",
      " 5   Start_Avg_Price  6321 non-null   float64\n",
      " 6   Early_Bidding    6321 non-null   float64\n",
      " 7   Winning_Ratio    6321 non-null   float64\n",
      " 8   Auction_Type     6321 non-null   int64  \n",
      " 9   Class            6321 non-null   int64  \n",
      "dtypes: float64(8), int64(2)\n",
      "memory usage: 494.0 KB\n"
     ]
    }
   ],
   "source": [
    "df2.info()"
   ]
  },
  {
   "cell_type": "markdown",
   "id": "c104aa0e",
   "metadata": {},
   "source": [
    "#### D: Applying scaler on the dataset"
   ]
  },
  {
   "cell_type": "markdown",
   "id": "30813354",
   "metadata": {},
   "source": [
    "One of the most crucial steps for a successful application of a ML algorithm in the pre-processing of data phase is the feature scaling of the variables. "
   ]
  },
  {
   "cell_type": "markdown",
   "id": "6389a433",
   "metadata": {},
   "source": [
    "Our data looks like it has been scaled already but there is one feature that its a little out of the scale: Auction_Duration. I will apply scaler again. <br>\n",
    "This time I will use Standard Scaler.<br>\n",
    "The standard score of a sample x is calculated as:\n",
    "\n",
    "z = (x - u) / s<br>"
   ]
  },
  {
   "cell_type": "markdown",
   "id": "9140b132",
   "metadata": {},
   "source": [
    "To apply the scaler I need to split the dataset into: target and independent features, applying scaler on the independent features only.<br>\n",
    "\n",
    "Importing Standard Scaler from sklearn.preprocessing library."
   ]
  },
  {
   "cell_type": "code",
   "execution_count": 22,
   "id": "90a0ab38",
   "metadata": {},
   "outputs": [],
   "source": [
    "from sklearn.preprocessing import StandardScaler"
   ]
  },
  {
   "cell_type": "code",
   "execution_count": 23,
   "id": "d17101ce",
   "metadata": {},
   "outputs": [],
   "source": [
    "s_scaler = StandardScaler()"
   ]
  },
  {
   "cell_type": "code",
   "execution_count": 24,
   "id": "d06978fe",
   "metadata": {},
   "outputs": [],
   "source": [
    "X = df2.drop(['Class'], axis=1)\n",
    "y = df2[['Class']]"
   ]
  },
  {
   "cell_type": "code",
   "execution_count": 25,
   "id": "1e4ff84a",
   "metadata": {},
   "outputs": [
    {
     "data": {
      "text/html": [
       "<div>\n",
       "<style scoped>\n",
       "    .dataframe tbody tr th:only-of-type {\n",
       "        vertical-align: middle;\n",
       "    }\n",
       "\n",
       "    .dataframe tbody tr th {\n",
       "        vertical-align: top;\n",
       "    }\n",
       "\n",
       "    .dataframe thead th {\n",
       "        text-align: right;\n",
       "    }\n",
       "</style>\n",
       "<table border=\"1\" class=\"dataframe\">\n",
       "  <thead>\n",
       "    <tr style=\"text-align: right;\">\n",
       "      <th></th>\n",
       "      <th>Bid_Tendency</th>\n",
       "      <th>Bid_Ratio</th>\n",
       "      <th>Outbidding</th>\n",
       "      <th>Last_Bidding</th>\n",
       "      <th>Auction_Bids</th>\n",
       "      <th>Start_Avg_Price</th>\n",
       "      <th>Early_Bidding</th>\n",
       "      <th>Winning_Ratio</th>\n",
       "      <th>Auction_Type</th>\n",
       "    </tr>\n",
       "  </thead>\n",
       "  <tbody>\n",
       "    <tr>\n",
       "      <th>0</th>\n",
       "      <td>0.200000</td>\n",
       "      <td>0.400000</td>\n",
       "      <td>0.0</td>\n",
       "      <td>0.000028</td>\n",
       "      <td>0.0</td>\n",
       "      <td>0.993593</td>\n",
       "      <td>0.000028</td>\n",
       "      <td>0.666667</td>\n",
       "      <td>5</td>\n",
       "    </tr>\n",
       "    <tr>\n",
       "      <th>1</th>\n",
       "      <td>0.024390</td>\n",
       "      <td>0.200000</td>\n",
       "      <td>0.0</td>\n",
       "      <td>0.013123</td>\n",
       "      <td>0.0</td>\n",
       "      <td>0.993593</td>\n",
       "      <td>0.013123</td>\n",
       "      <td>0.944444</td>\n",
       "      <td>5</td>\n",
       "    </tr>\n",
       "    <tr>\n",
       "      <th>2</th>\n",
       "      <td>0.142857</td>\n",
       "      <td>0.200000</td>\n",
       "      <td>0.0</td>\n",
       "      <td>0.003042</td>\n",
       "      <td>0.0</td>\n",
       "      <td>0.993593</td>\n",
       "      <td>0.003042</td>\n",
       "      <td>1.000000</td>\n",
       "      <td>5</td>\n",
       "    </tr>\n",
       "    <tr>\n",
       "      <th>3</th>\n",
       "      <td>0.100000</td>\n",
       "      <td>0.200000</td>\n",
       "      <td>0.0</td>\n",
       "      <td>0.097477</td>\n",
       "      <td>0.0</td>\n",
       "      <td>0.993593</td>\n",
       "      <td>0.097477</td>\n",
       "      <td>1.000000</td>\n",
       "      <td>5</td>\n",
       "    </tr>\n",
       "    <tr>\n",
       "      <th>4</th>\n",
       "      <td>0.051282</td>\n",
       "      <td>0.222222</td>\n",
       "      <td>0.0</td>\n",
       "      <td>0.001318</td>\n",
       "      <td>0.0</td>\n",
       "      <td>0.000000</td>\n",
       "      <td>0.001242</td>\n",
       "      <td>0.500000</td>\n",
       "      <td>7</td>\n",
       "    </tr>\n",
       "  </tbody>\n",
       "</table>\n",
       "</div>"
      ],
      "text/plain": [
       "   Bid_Tendency  Bid_Ratio  Outbidding  Last_Bidding  Auction_Bids  \\\n",
       "0      0.200000   0.400000         0.0      0.000028           0.0   \n",
       "1      0.024390   0.200000         0.0      0.013123           0.0   \n",
       "2      0.142857   0.200000         0.0      0.003042           0.0   \n",
       "3      0.100000   0.200000         0.0      0.097477           0.0   \n",
       "4      0.051282   0.222222         0.0      0.001318           0.0   \n",
       "\n",
       "   Start_Avg_Price  Early_Bidding  Winning_Ratio  Auction_Type  \n",
       "0         0.993593       0.000028       0.666667             5  \n",
       "1         0.993593       0.013123       0.944444             5  \n",
       "2         0.993593       0.003042       1.000000             5  \n",
       "3         0.993593       0.097477       1.000000             5  \n",
       "4         0.000000       0.001242       0.500000             7  "
      ]
     },
     "execution_count": 25,
     "metadata": {},
     "output_type": "execute_result"
    }
   ],
   "source": [
    "X.head()"
   ]
  },
  {
   "cell_type": "code",
   "execution_count": 26,
   "id": "1151e65b",
   "metadata": {},
   "outputs": [],
   "source": [
    "X_scaled = s_scaler.fit_transform(X)"
   ]
  },
  {
   "cell_type": "code",
   "execution_count": 27,
   "id": "9dd29b2c",
   "metadata": {},
   "outputs": [
    {
     "data": {
      "text/plain": [
       "(6321, 9)"
      ]
     },
     "execution_count": 27,
     "metadata": {},
     "output_type": "execute_result"
    }
   ],
   "source": [
    "X_scaled.shape"
   ]
  },
  {
   "cell_type": "markdown",
   "id": "9ff7ce03",
   "metadata": {},
   "source": [
    "I would like to double check if the data has been scaled, and review that in the Dataframe form.<br>\n",
    "To be able to do this I will transform X_scaled ndarray into DataFrame using pandas.DataFrame method:"
   ]
  },
  {
   "cell_type": "code",
   "execution_count": 28,
   "id": "76ae6dbd",
   "metadata": {},
   "outputs": [],
   "source": [
    "X_scaled_df = pd.DataFrame(X_scaled)"
   ]
  },
  {
   "cell_type": "code",
   "execution_count": 29,
   "id": "b5ff9b96",
   "metadata": {},
   "outputs": [
    {
     "data": {
      "text/html": [
       "<div>\n",
       "<style scoped>\n",
       "    .dataframe tbody tr th:only-of-type {\n",
       "        vertical-align: middle;\n",
       "    }\n",
       "\n",
       "    .dataframe tbody tr th {\n",
       "        vertical-align: top;\n",
       "    }\n",
       "\n",
       "    .dataframe thead th {\n",
       "        text-align: right;\n",
       "    }\n",
       "</style>\n",
       "<table border=\"1\" class=\"dataframe\">\n",
       "  <thead>\n",
       "    <tr style=\"text-align: right;\">\n",
       "      <th></th>\n",
       "      <th>0</th>\n",
       "      <th>1</th>\n",
       "      <th>2</th>\n",
       "      <th>3</th>\n",
       "      <th>4</th>\n",
       "      <th>5</th>\n",
       "      <th>6</th>\n",
       "      <th>7</th>\n",
       "      <th>8</th>\n",
       "    </tr>\n",
       "  </thead>\n",
       "  <tbody>\n",
       "    <tr>\n",
       "      <th>0</th>\n",
       "      <td>0.291571</td>\n",
       "      <td>2.070638</td>\n",
       "      <td>-0.371076</td>\n",
       "      <td>-1.218447</td>\n",
       "      <td>-0.907433</td>\n",
       "      <td>1.063074</td>\n",
       "      <td>-1.131055</td>\n",
       "      <td>0.684785</td>\n",
       "      <td>0.156058</td>\n",
       "    </tr>\n",
       "    <tr>\n",
       "      <th>1</th>\n",
       "      <td>-0.599542</td>\n",
       "      <td>0.549957</td>\n",
       "      <td>-0.371076</td>\n",
       "      <td>-1.183993</td>\n",
       "      <td>-0.907433</td>\n",
       "      <td>1.063074</td>\n",
       "      <td>-1.096663</td>\n",
       "      <td>1.321104</td>\n",
       "      <td>0.156058</td>\n",
       "    </tr>\n",
       "    <tr>\n",
       "      <th>2</th>\n",
       "      <td>0.001606</td>\n",
       "      <td>0.549957</td>\n",
       "      <td>-0.371076</td>\n",
       "      <td>-1.210517</td>\n",
       "      <td>-0.907433</td>\n",
       "      <td>1.063074</td>\n",
       "      <td>-1.123139</td>\n",
       "      <td>1.448368</td>\n",
       "      <td>0.156058</td>\n",
       "    </tr>\n",
       "    <tr>\n",
       "      <th>3</th>\n",
       "      <td>-0.215868</td>\n",
       "      <td>0.549957</td>\n",
       "      <td>-0.371076</td>\n",
       "      <td>-0.962047</td>\n",
       "      <td>-0.907433</td>\n",
       "      <td>1.063074</td>\n",
       "      <td>-0.875118</td>\n",
       "      <td>1.448368</td>\n",
       "      <td>0.156058</td>\n",
       "    </tr>\n",
       "    <tr>\n",
       "      <th>4</th>\n",
       "      <td>-0.463082</td>\n",
       "      <td>0.718921</td>\n",
       "      <td>-0.371076</td>\n",
       "      <td>-1.215053</td>\n",
       "      <td>-0.907433</td>\n",
       "      <td>-0.965191</td>\n",
       "      <td>-1.127866</td>\n",
       "      <td>0.302994</td>\n",
       "      <td>0.966946</td>\n",
       "    </tr>\n",
       "  </tbody>\n",
       "</table>\n",
       "</div>"
      ],
      "text/plain": [
       "          0         1         2         3         4         5         6  \\\n",
       "0  0.291571  2.070638 -0.371076 -1.218447 -0.907433  1.063074 -1.131055   \n",
       "1 -0.599542  0.549957 -0.371076 -1.183993 -0.907433  1.063074 -1.096663   \n",
       "2  0.001606  0.549957 -0.371076 -1.210517 -0.907433  1.063074 -1.123139   \n",
       "3 -0.215868  0.549957 -0.371076 -0.962047 -0.907433  1.063074 -0.875118   \n",
       "4 -0.463082  0.718921 -0.371076 -1.215053 -0.907433 -0.965191 -1.127866   \n",
       "\n",
       "          7         8  \n",
       "0  0.684785  0.156058  \n",
       "1  1.321104  0.156058  \n",
       "2  1.448368  0.156058  \n",
       "3  1.448368  0.156058  \n",
       "4  0.302994  0.966946  "
      ]
     },
     "execution_count": 29,
     "metadata": {},
     "output_type": "execute_result"
    }
   ],
   "source": [
    "X_scaled_df.head()"
   ]
  },
  {
   "cell_type": "code",
   "execution_count": 30,
   "id": "ca48028b",
   "metadata": {},
   "outputs": [
    {
     "data": {
      "text/plain": [
       "(6321, 1)"
      ]
     },
     "execution_count": 30,
     "metadata": {},
     "output_type": "execute_result"
    }
   ],
   "source": [
    "y.shape"
   ]
  },
  {
   "cell_type": "markdown",
   "id": "80e5482b",
   "metadata": {},
   "source": [
    "### Part 3: Visualizations of Key Variables"
   ]
  },
  {
   "cell_type": "markdown",
   "id": "17f43e84",
   "metadata": {},
   "source": [
    "#### A: Class distribution "
   ]
  },
  {
   "cell_type": "markdown",
   "id": "45e04ee7",
   "metadata": {},
   "source": [
    "I want to see how the Class distribution of our Target feature looks in numbers:"
   ]
  },
  {
   "cell_type": "code",
   "execution_count": 31,
   "id": "45141757",
   "metadata": {},
   "outputs": [
    {
     "data": {
      "text/plain": [
       "0    5646\n",
       "1     675\n",
       "Name: Class, dtype: int64"
      ]
     },
     "execution_count": 31,
     "metadata": {},
     "output_type": "execute_result"
    }
   ],
   "source": [
    "df2['Class'].value_counts()"
   ]
  },
  {
   "cell_type": "markdown",
   "id": "1a02b863",
   "metadata": {},
   "source": [
    "From the above code I can understand that the majority Class is zero, which we know represents Normal Bids, and only 675 of anormal bids."
   ]
  },
  {
   "cell_type": "markdown",
   "id": "0926e04d",
   "metadata": {},
   "source": [
    "Lets see how this is represented on bar chart.<br>\n"
   ]
  },
  {
   "cell_type": "markdown",
   "id": "67b532cd",
   "metadata": {},
   "source": [
    "Using Seaborn library and the barplot to do that, on x axis plotting the index of the class count that at the same time, on the y axis plotting the value counts of the value of the class."
   ]
  },
  {
   "cell_type": "code",
   "execution_count": 32,
   "id": "d55e8347",
   "metadata": {},
   "outputs": [
    {
     "data": {
      "image/png": "[encoded data removed]",
      "text/plain": [
       "<Figure size 432x288 with 1 Axes>"
      ]
     },
     "metadata": {},
     "output_type": "display_data"
    }
   ],
   "source": [
    "sns.set(style='whitegrid')\n",
    "ax=sns.barplot(x=df2['Class'].value_counts().index,y=df1['Class'].value_counts().values,palette=\"RdGy\")\n",
    "plt.xlabel('Class')\n",
    "plt.ylabel('Frequency')\n",
    "plt.title('Class frequency')\n",
    "plt.show()"
   ]
  },
  {
   "cell_type": "markdown",
   "id": "4d4a7e58",
   "metadata": {},
   "source": [
    "Our data is highly unbalanced and I will deal with this problem later on."
   ]
  },
  {
   "cell_type": "markdown",
   "id": "7141b166",
   "metadata": {},
   "source": [
    "#### B: Auction type popularity:"
   ]
  },
  {
   "cell_type": "markdown",
   "id": "9f5b21e2",
   "metadata": {},
   "source": [
    "There are several diffrent auction types represented in the dataset, the types of the auctions vary based on the duration of the Auction. (1 hr auction, 5 hrs auction and so on)."
   ]
  },
  {
   "cell_type": "markdown",
   "id": "0fecbc2d",
   "metadata": {},
   "source": [
    "We can see that we have 5 different auctions."
   ]
  },
  {
   "cell_type": "code",
   "execution_count": 33,
   "id": "f60dc8ed",
   "metadata": {},
   "outputs": [
    {
     "name": "stdout",
     "output_type": "stream",
     "text": [
      "7     2427\n",
      "3     1408\n",
      "1     1289\n",
      "5     1060\n",
      "10     137\n",
      "Name: Auction_Type, dtype: int64\n"
     ]
    }
   ],
   "source": [
    "auction_type = df2['Auction_Type'].value_counts()\n",
    "print(auction_type)"
   ]
  },
  {
   "cell_type": "markdown",
   "id": "2dacf4f7",
   "metadata": {},
   "source": [
    "I will visualize distribution of this auctions and number of them using Seaborn and countplot."
   ]
  },
  {
   "cell_type": "code",
   "execution_count": 34,
   "id": "ceb69d84",
   "metadata": {},
   "outputs": [
    {
     "data": {
      "text/plain": [
       "Text(0.5, 1.0, 'Auction Types')"
      ]
     },
     "execution_count": 34,
     "metadata": {},
     "output_type": "execute_result"
    },
    {
     "data": {
      "image/png": "[encoded data removed]",
      "text/plain": [
       "<Figure size 432x288 with 1 Axes>"
      ]
     },
     "metadata": {},
     "output_type": "display_data"
    }
   ],
   "source": [
    "sns.set_palette('RdGy')\n",
    "ax = sns.countplot(data=df2, x='Auction_Type', hue='Class')\n",
    "plt.title('Auction Types')"
   ]
  },
  {
   "cell_type": "markdown",
   "id": "401d6df1",
   "metadata": {},
   "source": [
    "From the plot we can read that the most popular Auction is the 7 hours one and that most of the anormal bids happen at that auction."
   ]
  },
  {
   "cell_type": "markdown",
   "id": "23485260",
   "metadata": {},
   "source": [
    "#### C:  Starting Average price:"
   ]
  },
  {
   "cell_type": "code",
   "execution_count": 35,
   "id": "93fa4ea1",
   "metadata": {},
   "outputs": [
    {
     "name": "stdout",
     "output_type": "stream",
     "text": [
      "0.000000    3253\n",
      "0.993593    1921\n",
      "0.999935     345\n",
      "0.993528     322\n",
      "0.935346      89\n",
      "0.676405      48\n",
      "0.999353      43\n",
      "0.998900      36\n",
      "0.987121      34\n",
      "0.825259      29\n",
      "0.967640      29\n",
      "0.935281      26\n",
      "0.676469      24\n",
      "0.961233      23\n",
      "0.514607      22\n",
      "0.935605      15\n",
      "0.546967      15\n",
      "0.553050      15\n",
      "0.995146      13\n",
      "0.967705      11\n",
      "0.805843       5\n",
      "0.929586       3\n",
      "Name: Start_Avg_Price, dtype: int64\n"
     ]
    }
   ],
   "source": [
    "price=df2['Start_Avg_Price'].value_counts()\n",
    "print(price)"
   ]
  },
  {
   "cell_type": "code",
   "execution_count": 36,
   "id": "6c0eef57",
   "metadata": {},
   "outputs": [
    {
     "data": {
      "text/plain": [
       "[Text(0.5, 1.0, 'Starting Price')]"
      ]
     },
     "execution_count": 36,
     "metadata": {},
     "output_type": "execute_result"
    },
    {
     "data": {
      "image/png": "[encoded data removed]",
      "text/plain": [
       "<Figure size 720x576 with 1 Axes>"
      ]
     },
     "metadata": {},
     "output_type": "display_data"
    }
   ],
   "source": [
    "sns.set_palette('RdGy')\n",
    "ax, fig = plt.subplots(figsize=[10,8])\n",
    "sns.countplot(data=df2, y='Start_Avg_Price', hue='Class').set(title='Starting Price')\n"
   ]
  },
  {
   "cell_type": "markdown",
   "id": "30b25844",
   "metadata": {},
   "source": [
    "#### D: Relation between features using Pearson Correlation method "
   ]
  },
  {
   "cell_type": "markdown",
   "id": "e6b64784",
   "metadata": {},
   "source": [
    "First checking the absolute correlation towards our Class and sorting result in descending order:"
   ]
  },
  {
   "cell_type": "code",
   "execution_count": 37,
   "id": "ac5651b9",
   "metadata": {},
   "outputs": [
    {
     "name": "stdout",
     "output_type": "stream",
     "text": [
      "Class              1.000000\n",
      "Outbidding         0.901035\n",
      "Bid_Ratio          0.569435\n",
      "Winning_Ratio      0.394122\n",
      "Bid_Tendency       0.295533\n",
      "Last_Bidding       0.097655\n",
      "Early_Bidding      0.053570\n",
      "Auction_Bids       0.044964\n",
      "Start_Avg_Price    0.042604\n",
      "Auction_Type       0.021145\n",
      "Name: Class, dtype: float64\n"
     ]
    }
   ],
   "source": [
    "imp_feat_corr = abs(df2.corr()['Class']).sort_values(ascending=False)\n",
    "print(imp_feat_corr)"
   ]
  },
  {
   "cell_type": "markdown",
   "id": "421031e2",
   "metadata": {},
   "source": [
    "The strongest correlation with Class have values with the highest weight, such as: Outbidding and Bid_Ratio."
   ]
  },
  {
   "cell_type": "markdown",
   "id": "7330d6d7",
   "metadata": {},
   "source": [
    "Plotting results on the bar chart."
   ]
  },
  {
   "cell_type": "code",
   "execution_count": 38,
   "id": "9d36702a",
   "metadata": {},
   "outputs": [
    {
     "data": {
      "text/plain": [
       "Text(0.5, 1.0, 'Features correlation towards Class')"
      ]
     },
     "execution_count": 38,
     "metadata": {},
     "output_type": "execute_result"
    },
    {
     "data": {
      "image/png": "[encoded data removed]",
      "text/plain": [
       "<Figure size 576x576 with 1 Axes>"
      ]
     },
     "metadata": {},
     "output_type": "display_data"
    }
   ],
   "source": [
    "plt.figure(figsize=(8,8))\n",
    "sns.set_palette('RdGy')\n",
    "ax = df2.corr()['Class'][:].sort_values().plot(kind ='barh')\n",
    "ax.set_title('Features correlation towards Class')"
   ]
  },
  {
   "cell_type": "raw",
   "id": "ad3bf978",
   "metadata": {},
   "source": [
    "Plotting the Pearson correlation using HeatMap from Seaborn."
   ]
  },
  {
   "cell_type": "code",
   "execution_count": 39,
   "id": "3e0e7c68",
   "metadata": {},
   "outputs": [
    {
     "data": {
      "image/png": "[encoded data removed]",
      "text/plain": [
       "<Figure size 1296x720 with 2 Axes>"
      ]
     },
     "metadata": {},
     "output_type": "display_data"
    }
   ],
   "source": [
    "plt.figure(figsize = (18,10)) \n",
    "mask = np.triu(np.ones_like(df2.corr(method = \"pearson\"), dtype=np.bool))\n",
    "heatmap = sns.heatmap(df2.corr(),vmin=-1, vmax=1, mask = mask, annot = True, cmap='RdGy')\n"
   ]
  },
  {
   "cell_type": "markdown",
   "id": "b8e0a275",
   "metadata": {},
   "source": [
    "From the above charts we can see that the weakest correlation with 'Class' have columns with values close to zero, like: Auction_Type, Start_Avg_Price, Auction_Bids and Early_Bidding. <br>\n",
    "The feature 'Outbidding' has the highest positive correlation, followed by 'Bid_Ratio'. "
   ]
  },
  {
   "cell_type": "markdown",
   "id": "4b613bf6",
   "metadata": {},
   "source": [
    "### Part 4: PCA"
   ]
  },
  {
   "cell_type": "markdown",
   "id": "bf24e564",
   "metadata": {},
   "source": [
    "PCA is fundamentally a dimensionality reduction algorithm, but it can also be useful as a tool for visualization, for noise filtering, for feature extraction and engineering, and much more.<br>\n",
    "(VanderPlas, J. 2016)"
   ]
  },
  {
   "cell_type": "markdown",
   "id": "7c27598b",
   "metadata": {},
   "source": [
    "#### A: PCA for dimensionality reduction"
   ]
  },
  {
   "cell_type": "markdown",
   "id": "6c6f5f0d",
   "metadata": {},
   "source": [
    "At first I would like to check if we can apply PCA for dimentionality reduction purposes of our DataSet.<br>\n",
    "I am going to visualise the explained variance to see how many components we need to keep to not lose the \"essance\" from the information in our data."
   ]
  },
  {
   "cell_type": "markdown",
   "id": "63db702a",
   "metadata": {},
   "source": [
    "Using PCA for dimensionality reduction involves zeroing out one or more of the smallest principal components, resulting in a lower-dimensional projection of the data that preserves the maximal data variance."
   ]
  },
  {
   "cell_type": "markdown",
   "id": "b3801cb0",
   "metadata": {},
   "source": [
    "importing PCA from sklearn.decomposition library"
   ]
  },
  {
   "cell_type": "code",
   "execution_count": 40,
   "id": "e54c9c13",
   "metadata": {},
   "outputs": [],
   "source": [
    "from sklearn.decomposition import PCA"
   ]
  },
  {
   "cell_type": "markdown",
   "id": "e6580a93",
   "metadata": {},
   "source": [
    "Plotting the variance ratio to see if it make sense to use dimensionality reduction for our dataset."
   ]
  },
  {
   "cell_type": "code",
   "execution_count": 41,
   "id": "c67c4a5e",
   "metadata": {},
   "outputs": [
    {
     "data": {
      "image/png": "[encoded data removed]",
      "text/plain": [
       "<Figure size 432x288 with 1 Axes>"
      ]
     },
     "metadata": {},
     "output_type": "display_data"
    }
   ],
   "source": [
    "pca_1 = PCA().fit(X_scaled)\n",
    "plt.plot(np.cumsum(pca_1.explained_variance_ratio_), color='brown') \n",
    "plt.xlabel('number of components') \n",
    "plt.ylabel('cumulative explained variance'); "
   ]
  },
  {
   "cell_type": "markdown",
   "id": "149ff977",
   "metadata": {},
   "source": [
    "Now to see how many components I would need to keep if I would like to retain 99% of information from our data."
   ]
  },
  {
   "cell_type": "code",
   "execution_count": 42,
   "id": "a7c7de75",
   "metadata": {},
   "outputs": [
    {
     "data": {
      "text/plain": [
       "8"
      ]
     },
     "execution_count": 42,
     "metadata": {},
     "output_type": "execute_result"
    }
   ],
   "source": [
    "pca_1 = PCA(0.99).fit(X_scaled)\n",
    "pca_1.n_components_ "
   ]
  },
  {
   "cell_type": "code",
   "execution_count": 43,
   "id": "d05861e2",
   "metadata": {},
   "outputs": [
    {
     "name": "stdout",
     "output_type": "stream",
     "text": [
      "(6321, 9)\n",
      "(6321, 8)\n"
     ]
    }
   ],
   "source": [
    "pca_1 = pca_1.fit_transform(X_scaled)\n",
    "print(X_scaled.shape)\n",
    "print(pca_1.shape)"
   ]
  },
  {
   "cell_type": "markdown",
   "id": "db95d882",
   "metadata": {},
   "source": [
    "It seems that application of PCA when we want to retain 99% of the information from our data is going to reduce the dimensionality of the data from 9 to 8 features. <br>\n",
    "This would suggest that use of PCA is not bringing much value.\n"
   ]
  },
  {
   "cell_type": "markdown",
   "id": "5cdd4e55",
   "metadata": {},
   "source": [
    "#### B: PCA for visualization of the separation of the class"
   ]
  },
  {
   "cell_type": "markdown",
   "id": "4db6cee8",
   "metadata": {},
   "source": [
    "The full data is a 9-dimensional. <br> By applying the code below I will find the optimal stretch and rotation in 9-dimensional space that allows us to see the layout of the datapoints in two dimensions."
   ]
  },
  {
   "cell_type": "code",
   "execution_count": 44,
   "id": "8bf24fb8",
   "metadata": {},
   "outputs": [
    {
     "name": "stdout",
     "output_type": "stream",
     "text": [
      "(6321, 9)\n",
      "(6321, 2)\n"
     ]
    }
   ],
   "source": [
    "pca_2 = PCA(2)  \n",
    "pca_2 = pca_2.fit_transform(X_scaled)\n",
    "print(X_scaled.shape)\n",
    "print(pca_2.shape)"
   ]
  },
  {
   "cell_type": "code",
   "execution_count": 45,
   "id": "2b10e0fb",
   "metadata": {},
   "outputs": [
    {
     "data": {
      "image/png": "[encoded data removed]",
      "text/plain": [
       "<Figure size 432x288 with 2 Axes>"
      ]
     },
     "metadata": {},
     "output_type": "display_data"
    }
   ],
   "source": [
    "plt.scatter(pca_2[:, 0], pca_2[:, 1],\n",
    "            c=df1['Class'], edgecolor='none', alpha=0.5,\n",
    "            cmap=plt.cm.get_cmap('RdGy', 10))\n",
    "plt.xlabel('component 1')\n",
    "plt.ylabel('component 2')\n",
    "plt.colorbar();"
   ]
  },
  {
   "cell_type": "markdown",
   "id": "ebd9c24e",
   "metadata": {},
   "source": [
    "From the scatter plot above we can see that our classes are not strongly separated, we can see interjection between them."
   ]
  },
  {
   "cell_type": "markdown",
   "id": "048ace31",
   "metadata": {},
   "source": [
    "### Part 5: LDA"
   ]
  },
  {
   "cell_type": "markdown",
   "id": "5b90a938",
   "metadata": {},
   "source": [
    "Linear Discriminant Analysis is all about finding a lower-dimensional space, where to project the data unto in order to provide more meaningful data for the algorithm. LDA could also be used for classification problem.<br>\n",
    "Fisher’s Linear Discriminant is about maximizing the class separation, hence making it a supervised learning problem. Unlike PCA, which is an unsupervised dimensionality reduction method for preserving maximum variance. <br>\n",
    "(Gudiksen, M. 2021)"
   ]
  },
  {
   "cell_type": "markdown",
   "id": "776f7b3c",
   "metadata": {},
   "source": [
    "LDA is limited to a dimension of size n - 1, meaning that you can only project to a dimensional space lower than the number of classes in your dataset."
   ]
  },
  {
   "cell_type": "code",
   "execution_count": 46,
   "id": "3142d69e",
   "metadata": {},
   "outputs": [],
   "source": [
    "from sklearn.discriminant_analysis import LinearDiscriminantAnalysis as LDA\n",
    "lda = LDA()\n"
   ]
  },
  {
   "cell_type": "markdown",
   "id": "e8c39536",
   "metadata": {},
   "source": [
    "First projecting into 1D spece due to the fact that we have rule: number of classes -1, in our case we have two classes - 1 = 1D space."
   ]
  },
  {
   "cell_type": "code",
   "execution_count": 47,
   "id": "eb1d54b6",
   "metadata": {},
   "outputs": [],
   "source": [
    "dim = 1"
   ]
  },
  {
   "cell_type": "markdown",
   "id": "4b824fac",
   "metadata": {},
   "source": [
    "projecting model into 1D space:"
   ]
  },
  {
   "cell_type": "code",
   "execution_count": 48,
   "id": "e2fc7dfa",
   "metadata": {},
   "outputs": [],
   "source": [
    "lda_model = LDA(n_components= dim)"
   ]
  },
  {
   "cell_type": "markdown",
   "id": "4a98464d",
   "metadata": {},
   "source": [
    "fitting our data into the model"
   ]
  },
  {
   "cell_type": "code",
   "execution_count": 49,
   "id": "2a70fcbe",
   "metadata": {},
   "outputs": [
    {
     "data": {
      "text/plain": [
       "LinearDiscriminantAnalysis(n_components=1)"
      ]
     },
     "execution_count": 49,
     "metadata": {},
     "output_type": "execute_result"
    }
   ],
   "source": [
    "lda_model.fit(X, y)"
   ]
  },
  {
   "cell_type": "code",
   "execution_count": 50,
   "id": "0afa2cfd",
   "metadata": {},
   "outputs": [
    {
     "data": {
      "text/plain": [
       "array([0, 0, 0, ..., 0, 0, 0], dtype=int64)"
      ]
     },
     "execution_count": 50,
     "metadata": {},
     "output_type": "execute_result"
    }
   ],
   "source": [
    "lda_preds = lda_model.predict(X)\n",
    "lda_preds"
   ]
  },
  {
   "cell_type": "code",
   "execution_count": 51,
   "id": "d0e74301",
   "metadata": {},
   "outputs": [
    {
     "data": {
      "text/plain": [
       "(array([5478.,    0.,    0.,    0.,    0.,    0.,    0.,    0.,    0.,\n",
       "         843.]),\n",
       " array([0. , 0.1, 0.2, 0.3, 0.4, 0.5, 0.6, 0.7, 0.8, 0.9, 1. ]),\n",
       " <BarContainer object of 10 artists>)"
      ]
     },
     "execution_count": 51,
     "metadata": {},
     "output_type": "execute_result"
    },
    {
     "data": {
      "image/png": "[encoded data removed]",
      "text/plain": [
       "<Figure size 432x288 with 1 Axes>"
      ]
     },
     "metadata": {},
     "output_type": "display_data"
    }
   ],
   "source": [
    "plt.hist(lda_preds)"
   ]
  },
  {
   "cell_type": "code",
   "execution_count": 52,
   "id": "48944868",
   "metadata": {},
   "outputs": [
    {
     "name": "stdout",
     "output_type": "stream",
     "text": [
      "Component 1: 100.0% var\n"
     ]
    }
   ],
   "source": [
    "EVR = lda_model.explained_variance_ratio_\n",
    "for idx, R in enumerate(EVR):\n",
    "    print(\"Component {}: {}% var\".format(idx+1, np.round(R*100,2)))"
   ]
  },
  {
   "cell_type": "code",
   "execution_count": 53,
   "id": "67bc6b51",
   "metadata": {},
   "outputs": [
    {
     "data": {
      "text/plain": [
       "(6321,)"
      ]
     },
     "execution_count": 53,
     "metadata": {},
     "output_type": "execute_result"
    }
   ],
   "source": [
    "lda_preds.shape"
   ]
  },
  {
   "cell_type": "code",
   "execution_count": 54,
   "id": "f154cfd6",
   "metadata": {},
   "outputs": [
    {
     "data": {
      "text/plain": [
       "array([1.])"
      ]
     },
     "execution_count": 54,
     "metadata": {},
     "output_type": "execute_result"
    }
   ],
   "source": [
    "lda_model.explained_variance_ratio_"
   ]
  },
  {
   "cell_type": "markdown",
   "id": "bd47506c",
   "metadata": {},
   "source": [
    "<b> LinearDiscriminantAnalysis can be used to perform supervised dimensionality reduction, by projecting the input data to a linear subspace consisting of the directions which maximize the separation between classes </b>  The dimension of the output is necessarily less than the number of classes, so this is, in general, a rather strong dimensionality reduction, <b> and only makes sense in a multiclass setting.</b> <br>\n",
    "(https://scikit-learn.org/)"
   ]
  },
  {
   "cell_type": "markdown",
   "id": "aba41f97",
   "metadata": {},
   "source": [
    "### Part 6:  Machine Learning"
   ]
  },
  {
   "cell_type": "markdown",
   "id": "b510758b",
   "metadata": {},
   "source": [
    "Our problem can be solved using supervised classification algorithms."
   ]
  },
  {
   "cell_type": "markdown",
   "id": "4b768084",
   "metadata": {},
   "source": [
    "Supervised learning is where you have input variables (x) and an output variable (Y) and you use an algorithm to learn the mapping function from the input to the output.\n",
    "\n",
    "Y = f(X)\n",
    "\n",
    "The goal is to approximate the mapping function so well that when you have new input data (x) that you can predict the output variables (Y) for that data.\n",
    "\n",
    "It is called supervised learning because the process of an algorithm learning from the training dataset can be thought of as a teacher supervising the learning process. We know the correct answers, the algorithm iteratively makes predictions on the training data and is corrected by the teacher. Learning stops when the algorithm achieves an acceptable level of performance.\n",
    "Supervised learning problems can be further grouped into regression and classification problems.\n",
    "\n",
    "Classification: A classification problem is when the output variable is a category, such as “red” or “blue” or “disease” and “no disease”.\n",
    "Regression: A regression problem is when the output variable is a real value, such as “dollars” or “weight”.<br>\n",
    "(Brownlee, J. (2020))\n"
   ]
  },
  {
   "cell_type": "markdown",
   "id": "8910ca9b",
   "metadata": {},
   "source": [
    "#### A: splitting the data into train and test"
   ]
  },
  {
   "cell_type": "code",
   "execution_count": 55,
   "id": "e6640ace",
   "metadata": {},
   "outputs": [],
   "source": [
    "from sklearn.model_selection import train_test_split"
   ]
  },
  {
   "cell_type": "markdown",
   "id": "9b4d6ead",
   "metadata": {},
   "source": [
    "I am now splitting our data into test and train. I will set the set 80% for training and 20% for testing. To select the size of the split I am using parameter: test_size and assigning size of the testing data, and also using parameter random_seed to have same outcome each time I runn the split."
   ]
  },
  {
   "cell_type": "code",
   "execution_count": 56,
   "id": "4292fa12",
   "metadata": {},
   "outputs": [],
   "source": [
    "X_train, X_test, y_train, y_test = train_test_split(X_scaled, y, test_size = 0.20, random_state = 82)"
   ]
  },
  {
   "cell_type": "code",
   "execution_count": 57,
   "id": "116ce661",
   "metadata": {},
   "outputs": [
    {
     "name": "stdout",
     "output_type": "stream",
     "text": [
      "Total number of rows and columns for the complete dataset:  (6321, 9) (6321, 1)\n"
     ]
    }
   ],
   "source": [
    "print('Total number of rows and columns for the complete dataset: ', X_scaled.shape, y.shape)"
   ]
  },
  {
   "cell_type": "code",
   "execution_count": 58,
   "id": "68ed2d2b",
   "metadata": {},
   "outputs": [
    {
     "name": "stdout",
     "output_type": "stream",
     "text": [
      "Number of rows and columns after splitting dataset:  (5056, 9) (1265, 9) (5056, 1) (1265, 1)\n"
     ]
    }
   ],
   "source": [
    "print('Number of rows and columns after splitting dataset: ', X_train.shape, X_test.shape, y_train.shape, y_test.shape )"
   ]
  },
  {
   "cell_type": "markdown",
   "id": "b71997e3",
   "metadata": {},
   "source": [
    "Checking again, confirming Class distribution in our X_train data. <br>\n",
    "And can clearly see that the data is highly imbalanced."
   ]
  },
  {
   "cell_type": "markdown",
   "id": "861de70e",
   "metadata": {},
   "source": [
    "One of the major issues dealing with highly imbalanced data relates to the metrics used to evaluate the model. Using simpler metrics like accuracy_score can be misleading. In a dataset with highly unbalanced classes, if the classifier always \"predicts\" the most common class without performing any analysis of the features, it will still have a high accuracy rate, obviously illusory."
   ]
  },
  {
   "cell_type": "code",
   "execution_count": 59,
   "id": "475dd8fc",
   "metadata": {},
   "outputs": [
    {
     "data": {
      "text/plain": [
       "Class\n",
       "0        4524\n",
       "1         532\n",
       "dtype: int64"
      ]
     },
     "execution_count": 59,
     "metadata": {},
     "output_type": "execute_result"
    }
   ],
   "source": [
    "y_train.value_counts()"
   ]
  },
  {
   "cell_type": "markdown",
   "id": "9dd8394c",
   "metadata": {},
   "source": [
    "Widely used solution to this problem is to do: Resampling. <br>\n",
    "It is a technique for dealing with highly unbalanced datasets. It consists of removing samples from the majority class (under-sampling) and / or adding more examples from the minority class (over-sampling)."
   ]
  },
  {
   "cell_type": "markdown",
   "id": "77fb7e4a",
   "metadata": {},
   "source": [
    "There is many methods to do the resampling. <br>\n",
    "I will use:"
   ]
  },
  {
   "cell_type": "markdown",
   "id": "d21db577",
   "metadata": {},
   "source": [
    "#### B: Over-sampling: SMOTE\n",
    "SMOTE (Synthetic Minority Oversampling TEchnique) consists of synthesizing elements for the minority class, based on those that already exist. It works randomly picingk a point from the minority class and computing the k-nearest neighbors for this point. The synthetic points are added between the chosen point and its neighbors.<br>\n",
    "(Alencar, R. (2018))"
   ]
  },
  {
   "cell_type": "markdown",
   "id": "868be76e",
   "metadata": {},
   "source": [
    "importing SMOTE from imblearn library"
   ]
  },
  {
   "cell_type": "markdown",
   "id": "d2aaa92a",
   "metadata": {},
   "source": [
    "creating SMOTE classifier and fitting our Train data into it:"
   ]
  },
  {
   "cell_type": "code",
   "execution_count": 60,
   "id": "3400d485",
   "metadata": {},
   "outputs": [],
   "source": [
    "from imblearn.over_sampling import SMOTE\n",
    "sm = SMOTE(random_state=42)\n",
    "X_sm, y_sm = sm.fit_resample(X_train, y_train)\n"
   ]
  },
  {
   "cell_type": "markdown",
   "id": "10e1d411",
   "metadata": {},
   "source": [
    "checking our class distribution now to see if it is balanced:"
   ]
  },
  {
   "cell_type": "code",
   "execution_count": 61,
   "id": "fb915fba",
   "metadata": {},
   "outputs": [
    {
     "data": {
      "text/plain": [
       "Class\n",
       "0        4524\n",
       "1        4524\n",
       "dtype: int64"
      ]
     },
     "execution_count": 61,
     "metadata": {},
     "output_type": "execute_result"
    }
   ],
   "source": [
    "y_sm.value_counts()"
   ]
  },
  {
   "cell_type": "markdown",
   "id": "0622d285",
   "metadata": {},
   "source": [
    "Instead of applying X_train to our Machine Learning models I will use X_sm."
   ]
  },
  {
   "cell_type": "markdown",
   "id": "8e201e1b",
   "metadata": {},
   "source": [
    "#### From among several supervised classification algorithms I have chosen the following: <br>\n",
    "\n",
    "- SVM\n",
    "- Random Forest\n",
    "- Naive Bayes"
   ]
  },
  {
   "cell_type": "markdown",
   "id": "92d39840",
   "metadata": {},
   "source": [
    "#### C: Implementing  Support Vector Machine Model"
   ]
  },
  {
   "cell_type": "markdown",
   "id": "cf8352c9",
   "metadata": {},
   "source": [
    "SVM (Support Vector Machine) classifies the data using hyperplane which acts like a decision boundary between different classes. Extreme data points from each class are called Support Vectors. SVM tries to find the best and optimal hyperplane which has maximum margin from each Support Vector. \n"
   ]
  },
  {
   "cell_type": "markdown",
   "id": "3de561bd",
   "metadata": {},
   "source": [
    "<b> Advantages of Support Vector Machine (SVM) </b>\n",
    "1. Regularization capabilities: SVM has L2 Regularization feature. So, it has good generalization capabilities which prevent it from over-fitting.\n",
    "\n",
    "2. Handles non-linear data efficiently: SVM can efficiently handle non-linear data using Kernel trick.\n",
    "\n",
    "3. Solves both Classification and Regression problems: SVM can be used to solve both classification and regression problems. SVM is used for classification problems while SVR (Support Vector Regression) is used for regression problems.\n",
    "\n",
    "4. Stability: A small change to the data does not greatly affect the hyperplane and hence the SVM. So the SVM model is stable."
   ]
  },
  {
   "cell_type": "markdown",
   "id": "e0a9bf5c",
   "metadata": {},
   "source": [
    "<b> Disadvantages of SVM </b>\n",
    "1. Choosing an appropriate Kernel function is difficult: Choosing an appropriate Kernel function (to handle the non-linear data) is not an easy task. It could be tricky and complex. In case of using a high dimension Kernel, you might generate too many support vectors which reduce the training speed drastically. \n",
    "\n",
    "2. Extensive memory requirement: Algorithmic complexity and memory requirements of SVM are very high. You need a lot of memory since you have to store all the support vectors in the memory and this number grows abruptly with the training dataset size.\n",
    "\n",
    "3. Requires Feature Scaling: One must do feature scaling of variables before applying SVM.\n",
    "\n",
    "4. Long training time: SVM takes a long training time on large datasets.\n",
    "\n",
    "5. Difficult to interpret: SVM model is difficult to understand and interpret by human beings unlike Decision Trees.<br>\n",
    "(Kumar, N. (2019))"
   ]
  },
  {
   "cell_type": "markdown",
   "id": "e41df681",
   "metadata": {},
   "source": [
    "importing needed libraries to build model, to hypertune and evaluate"
   ]
  },
  {
   "cell_type": "code",
   "execution_count": 62,
   "id": "8ff293b6",
   "metadata": {},
   "outputs": [],
   "source": [
    "from sklearn.svm import SVC\n",
    "from sklearn import metrics\n",
    "from sklearn.metrics import confusion_matrix\n",
    "from sklearn.model_selection import KFold\n",
    "from sklearn.model_selection import cross_val_score\n",
    "from sklearn.model_selection import GridSearchCV\n"
   ]
  },
  {
   "cell_type": "markdown",
   "id": "804fec63",
   "metadata": {},
   "source": [
    "Applying Support Vector Machine model with hypertuning of parameters: GridSearch to make sure the best results received."
   ]
  },
  {
   "cell_type": "markdown",
   "id": "083a91a2",
   "metadata": {},
   "source": [
    "Selecting kernel: 'rbf' for the non linear datasets problems."
   ]
  },
  {
   "cell_type": "markdown",
   "id": "b613e5c3",
   "metadata": {},
   "source": [
    "RBF Kernel is popular because of its similarity to K-Nearest Neighborhood Algorithm. It has the advantages of K-NN and overcomes the space complexity problem as RBF Kernel Support Vector Machines just needs to store the support vectors during training and not the entire dataset.<br>\n",
    "(Sreenivasa, S. (2020))"
   ]
  },
  {
   "cell_type": "markdown",
   "id": "24f4523e",
   "metadata": {},
   "source": [
    "Using KFolds for cross validation, number of splits = 5."
   ]
  },
  {
   "cell_type": "code",
   "execution_count": 63,
   "id": "e984d378",
   "metadata": {},
   "outputs": [],
   "source": [
    "folds = KFold(n_splits = 5, shuffle = True, random_state = 4)\n",
    "\n",
    "hyper_params = [ {'gamma': [1e-2, 1e-3, 1e-4],\n",
    "                     'C': [1, 10, 100, 1000]}]\n",
    "\n",
    "model = SVC(kernel=\"rbf\")\n",
    "\n",
    "# set up GridSearchCV()\n",
    "svc_tuned = GridSearchCV(estimator = model, \n",
    "                        param_grid = hyper_params, \n",
    "                        scoring= 'accuracy', \n",
    "                        cv = folds, \n",
    "                        verbose = 1,\n",
    "                        return_train_score=True)                   "
   ]
  },
  {
   "cell_type": "markdown",
   "id": "4919cede",
   "metadata": {},
   "source": [
    "fitting the tuned model on our data"
   ]
  },
  {
   "cell_type": "code",
   "execution_count": 64,
   "id": "879e8d5b",
   "metadata": {},
   "outputs": [
    {
     "name": "stdout",
     "output_type": "stream",
     "text": [
      "Fitting 5 folds for each of 12 candidates, totalling 60 fits\n"
     ]
    },
    {
     "data": {
      "text/plain": [
       "GridSearchCV(cv=KFold(n_splits=5, random_state=4, shuffle=True),\n",
       "             estimator=SVC(),\n",
       "             param_grid=[{'C': [1, 10, 100, 1000],\n",
       "                          'gamma': [0.01, 0.001, 0.0001]}],\n",
       "             return_train_score=True, scoring='accuracy', verbose=1)"
      ]
     },
     "execution_count": 64,
     "metadata": {},
     "output_type": "execute_result"
    }
   ],
   "source": [
    "svc_tuned.fit(X_sm, y_sm)  "
   ]
  },
  {
   "cell_type": "markdown",
   "id": "d178146c",
   "metadata": {},
   "source": [
    "checking the results in form of DataFrame"
   ]
  },
  {
   "cell_type": "code",
   "execution_count": 65,
   "id": "31cf0bf4",
   "metadata": {},
   "outputs": [
    {
     "data": {
      "text/html": [
       "<div>\n",
       "<style scoped>\n",
       "    .dataframe tbody tr th:only-of-type {\n",
       "        vertical-align: middle;\n",
       "    }\n",
       "\n",
       "    .dataframe tbody tr th {\n",
       "        vertical-align: top;\n",
       "    }\n",
       "\n",
       "    .dataframe thead th {\n",
       "        text-align: right;\n",
       "    }\n",
       "</style>\n",
       "<table border=\"1\" class=\"dataframe\">\n",
       "  <thead>\n",
       "    <tr style=\"text-align: right;\">\n",
       "      <th></th>\n",
       "      <th>mean_fit_time</th>\n",
       "      <th>std_fit_time</th>\n",
       "      <th>mean_score_time</th>\n",
       "      <th>std_score_time</th>\n",
       "      <th>param_C</th>\n",
       "      <th>param_gamma</th>\n",
       "      <th>params</th>\n",
       "      <th>split0_test_score</th>\n",
       "      <th>split1_test_score</th>\n",
       "      <th>split2_test_score</th>\n",
       "      <th>...</th>\n",
       "      <th>mean_test_score</th>\n",
       "      <th>std_test_score</th>\n",
       "      <th>rank_test_score</th>\n",
       "      <th>split0_train_score</th>\n",
       "      <th>split1_train_score</th>\n",
       "      <th>split2_train_score</th>\n",
       "      <th>split3_train_score</th>\n",
       "      <th>split4_train_score</th>\n",
       "      <th>mean_train_score</th>\n",
       "      <th>std_train_score</th>\n",
       "    </tr>\n",
       "  </thead>\n",
       "  <tbody>\n",
       "    <tr>\n",
       "      <th>0</th>\n",
       "      <td>0.162326</td>\n",
       "      <td>0.005838</td>\n",
       "      <td>0.054336</td>\n",
       "      <td>0.003979</td>\n",
       "      <td>1</td>\n",
       "      <td>0.01</td>\n",
       "      <td>{'C': 1, 'gamma': 0.01}</td>\n",
       "      <td>0.981768</td>\n",
       "      <td>0.980663</td>\n",
       "      <td>0.988398</td>\n",
       "      <td>...</td>\n",
       "      <td>0.983643</td>\n",
       "      <td>0.003488</td>\n",
       "      <td>7</td>\n",
       "      <td>0.984112</td>\n",
       "      <td>0.984388</td>\n",
       "      <td>0.982454</td>\n",
       "      <td>0.982732</td>\n",
       "      <td>0.984528</td>\n",
       "      <td>0.983643</td>\n",
       "      <td>0.000872</td>\n",
       "    </tr>\n",
       "    <tr>\n",
       "      <th>1</th>\n",
       "      <td>0.385315</td>\n",
       "      <td>0.009465</td>\n",
       "      <td>0.145874</td>\n",
       "      <td>0.005370</td>\n",
       "      <td>1</td>\n",
       "      <td>0.001</td>\n",
       "      <td>{'C': 1, 'gamma': 0.001}</td>\n",
       "      <td>0.981768</td>\n",
       "      <td>0.980663</td>\n",
       "      <td>0.988398</td>\n",
       "      <td>...</td>\n",
       "      <td>0.983532</td>\n",
       "      <td>0.003378</td>\n",
       "      <td>8</td>\n",
       "      <td>0.983973</td>\n",
       "      <td>0.984250</td>\n",
       "      <td>0.982316</td>\n",
       "      <td>0.982732</td>\n",
       "      <td>0.984390</td>\n",
       "      <td>0.983532</td>\n",
       "      <td>0.000844</td>\n",
       "    </tr>\n",
       "  </tbody>\n",
       "</table>\n",
       "<p>2 rows × 22 columns</p>\n",
       "</div>"
      ],
      "text/plain": [
       "   mean_fit_time  std_fit_time  mean_score_time  std_score_time param_C  \\\n",
       "0       0.162326      0.005838         0.054336        0.003979       1   \n",
       "1       0.385315      0.009465         0.145874        0.005370       1   \n",
       "\n",
       "  param_gamma                    params  split0_test_score  split1_test_score  \\\n",
       "0        0.01   {'C': 1, 'gamma': 0.01}           0.981768           0.980663   \n",
       "1       0.001  {'C': 1, 'gamma': 0.001}           0.981768           0.980663   \n",
       "\n",
       "   split2_test_score  ...  mean_test_score  std_test_score  rank_test_score  \\\n",
       "0           0.988398  ...         0.983643        0.003488                7   \n",
       "1           0.988398  ...         0.983532        0.003378                8   \n",
       "\n",
       "   split0_train_score  split1_train_score  split2_train_score  \\\n",
       "0            0.984112            0.984388            0.982454   \n",
       "1            0.983973            0.984250            0.982316   \n",
       "\n",
       "   split3_train_score  split4_train_score  mean_train_score  std_train_score  \n",
       "0            0.982732            0.984528          0.983643         0.000872  \n",
       "1            0.982732            0.984390          0.983532         0.000844  \n",
       "\n",
       "[2 rows x 22 columns]"
      ]
     },
     "execution_count": 65,
     "metadata": {},
     "output_type": "execute_result"
    }
   ],
   "source": [
    "cv_results = pd.DataFrame(svc_tuned.cv_results_)\n",
    "cv_results.head(2)"
   ]
  },
  {
   "cell_type": "markdown",
   "id": "7be09bb7",
   "metadata": {},
   "source": [
    "summary of the best results:"
   ]
  },
  {
   "cell_type": "code",
   "execution_count": 66,
   "id": "937f7122",
   "metadata": {},
   "outputs": [
    {
     "name": "stdout",
     "output_type": "stream",
     "text": [
      "The best test score is 0.9965737304881364 corresponding to hyperparameters {'C': 1000, 'gamma': 0.01}\n"
     ]
    }
   ],
   "source": [
    "best_score = svc_tuned.best_score_\n",
    "best_hyperparams = svc_tuned.best_params_\n",
    "\n",
    "print(\"The best test score is {0} corresponding to hyperparameters {1}\".format\n",
    "      (best_score, best_hyperparams))"
   ]
  },
  {
   "cell_type": "markdown",
   "id": "3a1d05da",
   "metadata": {},
   "source": [
    "Building SVM model using best parameters:"
   ]
  },
  {
   "cell_type": "code",
   "execution_count": 67,
   "id": "fe645847",
   "metadata": {},
   "outputs": [],
   "source": [
    "best_params = {\"C\": 1000, \"gamma\": 0.01, \"kernel\":\"rbf\"}\n",
    "\n",
    "# model\n",
    "svc_model = SVC(C=10, gamma=0.01, kernel=\"rbf\", probability=True)\n",
    "\n",
    "svc_model.fit(X_sm, y_sm.values.ravel())\n",
    "y_pred = svc_model.predict(X_test)"
   ]
  },
  {
   "cell_type": "markdown",
   "id": "cdd31943",
   "metadata": {},
   "source": [
    "Print training and testing dataset scores"
   ]
  },
  {
   "cell_type": "code",
   "execution_count": 68,
   "id": "14125d03",
   "metadata": {},
   "outputs": [
    {
     "name": "stdout",
     "output_type": "stream",
     "text": [
      "Training set score: 0.9814\n",
      "Test set score: 0.9810\n"
     ]
    }
   ],
   "source": [
    "print('Training set score: {:.4f}'.format(svc_model.score(X_train, y_train)))\n",
    "print('Test set score: {:.4f}'.format(svc_model.score(X_test, y_test)))"
   ]
  },
  {
   "cell_type": "markdown",
   "id": "9c2459ae",
   "metadata": {},
   "source": [
    "<b> SVM model evaluation </b>"
   ]
  },
  {
   "cell_type": "code",
   "execution_count": 69,
   "id": "b4bb4f7e",
   "metadata": {},
   "outputs": [],
   "source": [
    "from sklearn.metrics import classification_report, confusion_matrix"
   ]
  },
  {
   "cell_type": "markdown",
   "id": "8e2960f0",
   "metadata": {},
   "source": [
    "Print accuracy, precision and sensitivity/recall scores"
   ]
  },
  {
   "cell_type": "code",
   "execution_count": 70,
   "id": "58bff9e2",
   "metadata": {},
   "outputs": [
    {
     "name": "stdout",
     "output_type": "stream",
     "text": [
      "Accuracy of SVM with best parameters -  0.9810276679841897\n",
      "Precision of SVM with best parameters -  0.8606060606060606\n",
      "Sensitivity/recall of SVM with best parameters -  0.993006993006993\n",
      "F1 score of SVM with best parameters -  0.922077922077922\n"
     ]
    }
   ],
   "source": [
    "svc_model_accuracy = metrics.accuracy_score(y_test, y_pred)\n",
    "svc_model_precision = metrics.precision_score(y_test, y_pred)\n",
    "svc_model_recall = metrics.recall_score(y_test, y_pred)\n",
    "svc_model_f1 = metrics.f1_score(y_test, y_pred)\n",
    "\n",
    "print(\"Accuracy of SVM with best parameters - \"   , svc_model_accuracy)\n",
    "print(\"Precision of SVM with best parameters - \", svc_model_precision)\n",
    "print(\"Sensitivity/recall of SVM with best parameters - \", svc_model_recall)\n",
    "print('F1 score of SVM with best parameters - ', svc_model_f1)"
   ]
  },
  {
   "cell_type": "markdown",
   "id": "ed174b14",
   "metadata": {},
   "source": [
    "Confusion Matrix:\n"
   ]
  },
  {
   "cell_type": "code",
   "execution_count": 71,
   "id": "b61ef96e",
   "metadata": {},
   "outputs": [
    {
     "name": "stdout",
     "output_type": "stream",
     "text": [
      "              precision    recall  f1-score   support\n",
      "\n",
      "           0       1.00      0.98      0.99      1122\n",
      "           1       0.86      0.99      0.92       143\n",
      "\n",
      "    accuracy                           0.98      1265\n",
      "   macro avg       0.93      0.99      0.96      1265\n",
      "weighted avg       0.98      0.98      0.98      1265\n",
      "\n",
      "[[1099   23]\n",
      " [   1  142]]\n"
     ]
    }
   ],
   "source": [
    "print(classification_report(y_test, y_pred))\n",
    "print(metrics.confusion_matrix(y_test, y_pred))"
   ]
  },
  {
   "cell_type": "code",
   "execution_count": 72,
   "id": "aa05aa62",
   "metadata": {},
   "outputs": [
    {
     "data": {
      "text/plain": [
       "<AxesSubplot:>"
      ]
     },
     "execution_count": 72,
     "metadata": {},
     "output_type": "execute_result"
    },
    {
     "data": {
      "image/png": "[encoded data removed]",
      "text/plain": [
       "<Figure size 720x432 with 2 Axes>"
      ]
     },
     "metadata": {},
     "output_type": "display_data"
    }
   ],
   "source": [
    "cm = confusion_matrix(y_test, y_pred)\n",
    "sns.set(rc={'figure.figsize':(10,6)})\n",
    "colors = [\"#bdbdbd\", \"#636363\"]\n",
    "sns.set_palette(sns.color_palette(colors))\n",
    "sns.heatmap(cm, annot=True, fmt='g', cmap='RdGy')"
   ]
  },
  {
   "cell_type": "markdown",
   "id": "e4e2e17b",
   "metadata": {},
   "source": [
    "Explanation of confusion matrix:\n",
    "We had 1265 observations for the testing (y_test). 1099 bids predicteded correctly as normal (0), 1 was classified as anomalous (1) but actually it was normal bid (type II error). 142 bids correctly predicted to be anomalous, 23 were classified as normal but they were actually anomalous (type I error)."
   ]
  },
  {
   "cell_type": "code",
   "execution_count": 73,
   "id": "8ae7442a",
   "metadata": {},
   "outputs": [
    {
     "data": {
      "image/png": "[encoded data removed]",
      "text/plain": [
       "<Figure size 720x432 with 1 Axes>"
      ]
     },
     "metadata": {},
     "output_type": "display_data"
    }
   ],
   "source": [
    "y_pred_proba = svc_model.predict_proba(X_test)[::,1]\n",
    "fpr, tpr, _ = metrics.roc_curve(y_test,  y_pred_proba)\n",
    "\n",
    "#create ROC curve\n",
    "plt.plot(fpr,tpr, color='r')\n",
    "plt.ylabel('True Positive Rate')\n",
    "plt.xlabel('False Positive Rate')\n",
    "plt.show()"
   ]
  },
  {
   "cell_type": "markdown",
   "id": "e18db778",
   "metadata": {},
   "source": [
    "#### D: Implementing Random Forest model"
   ]
  },
  {
   "cell_type": "markdown",
   "id": "83988509",
   "metadata": {},
   "source": [
    "Random forest, consists of a large number of individual decision trees that operate as an ensemble. Each individual tree in the random forest spits out a class prediction and the class with the most votes becomes our model’s prediction.<br>\n",
    "(Yiu, T. (2019))"
   ]
  },
  {
   "cell_type": "markdown",
   "id": "39515498",
   "metadata": {},
   "source": [
    "<b> Advantages of Random Forest </b>\n",
    "\n",
    "1. Random Forest is based on the bagging algorithm and uses Ensemble Learning technique. It creates as many trees on the subset of the data and combines the output of all the trees. In this way it reduces overfitting problem in decision trees and also reduces the variance and therefore improves the accuracy.\n",
    "\n",
    "2. Random Forest can be used to solve both classification as well as regression problems.\n",
    "\n",
    "3. Random Forest works well with both categorical and continuous variables.\n",
    "\n",
    "4. Random Forest can automatically handle missing values.\n",
    "\n",
    "5. No feature scaling required: No feature scaling (standardization and normalization) required in case of Random Forest as it uses rule based approach instead of distance calculation.\n",
    "\n",
    "6. Handles non-linear parameters efficiently: Non linear parameters don't affect the performance of a Random Forest unlike curve based algorithms. So, if there is high non-linearity between the independent variables, Random Forest may outperform as compared to other curve based algorithms.\n",
    "\n",
    "7. Random Forest can automatically handle missing values.\n",
    "\n",
    "8. Random Forest is usually robust to outliers and can handle them automatically.\n",
    "\n",
    "9. Random Forest algorithm is very stable. Even if a new data point is introduced in the dataset, the overall algorithm is not affected much since the new data may impact one tree, but it is very hard for it to impact all the trees.\n",
    "\n",
    "10. Random Forest is comparatively less impacted by noise.\n"
   ]
  },
  {
   "cell_type": "markdown",
   "id": "82402af9",
   "metadata": {},
   "source": [
    "<b> Disadvantages of Random Forest </b>\n",
    "\n",
    "1. Complexity: Random Forest creates a lot of trees (unlike only one tree in case of decision tree) and combines their outputs. By default, it creates 100 trees in Python sklearn library. To do so, this algorithm requires much more computational power and resources. On the other hand decision tree is simple and does not require so much computational resources.\n",
    "\n",
    "2. Longer Training Period: Random Forest require much more time to train as compared to decision trees as it generates a lot of trees (instead of one tree in case of decision tree) and makes decision on the majority of votes. <br>\n",
    "(Kumar, N. (2019))"
   ]
  },
  {
   "cell_type": "markdown",
   "id": "d9312f46",
   "metadata": {},
   "source": [
    "importing calssifier from sklearn library"
   ]
  },
  {
   "cell_type": "code",
   "execution_count": 74,
   "id": "62567662",
   "metadata": {},
   "outputs": [],
   "source": [
    "from sklearn.ensemble import RandomForestClassifier"
   ]
  },
  {
   "cell_type": "markdown",
   "id": "4124eefe",
   "metadata": {},
   "source": [
    "generating classifier and fitting our data into it"
   ]
  },
  {
   "cell_type": "code",
   "execution_count": 75,
   "id": "8b4dbbc8",
   "metadata": {},
   "outputs": [
    {
     "data": {
      "text/plain": [
       "RandomForestClassifier()"
      ]
     },
     "execution_count": 75,
     "metadata": {},
     "output_type": "execute_result"
    }
   ],
   "source": [
    "rf_model = RandomForestClassifier()\n",
    "rf_model.fit(X_sm, y_sm.values.ravel())"
   ]
  },
  {
   "cell_type": "markdown",
   "id": "9b3e9d16",
   "metadata": {},
   "source": [
    "I have used KFold for cross validation, splits =2 (RandomForest is time consuming algorithm and I had to limit the number of fits."
   ]
  },
  {
   "cell_type": "code",
   "execution_count": 76,
   "id": "a100b6da",
   "metadata": {},
   "outputs": [],
   "source": [
    "#cross validation folds\n",
    "folds = KFold(n_splits = 2, shuffle = True, random_state = 42)\n",
    "# Number of trees in random forest\n",
    "n_estimators = [50,100]\n",
    "# Number of features to consider at every split\n",
    "max_features = [3,4,8]\n",
    "# Maximum number of levels in tree\n",
    "max_depth = [5,10]\n",
    "\n",
    "# Minimum number of samples required to split a node\n",
    "min_samples_split = [2,5]\n",
    "# Minimum number of samples required at each leaf node\n",
    "min_samples_leaf = [1, 2]\n",
    "# Method of selecting samples for training each tree\n",
    "bootstrap = [True, False]\n"
   ]
  },
  {
   "cell_type": "markdown",
   "id": "0e648463",
   "metadata": {},
   "source": [
    "Create the Random Grid that will be used in GridSearchCV:"
   ]
  },
  {
   "cell_type": "code",
   "execution_count": 77,
   "id": "1fb69bda",
   "metadata": {},
   "outputs": [],
   "source": [
    "random_grid = {'n_estimators': n_estimators,\n",
    "               'max_features': max_features,\n",
    "               'max_depth': max_depth,\n",
    "               'min_samples_split': min_samples_split,\n",
    "               'min_samples_leaf': min_samples_leaf,\n",
    "               'bootstrap': bootstrap}"
   ]
  },
  {
   "cell_type": "markdown",
   "id": "9a9ca938",
   "metadata": {},
   "source": [
    "creating rf_tuned model using GridSearchCV:"
   ]
  },
  {
   "cell_type": "code",
   "execution_count": 78,
   "id": "a7762765",
   "metadata": {},
   "outputs": [
    {
     "data": {
      "text/plain": [
       "GridSearchCV(cv=KFold(n_splits=2, random_state=42, shuffle=True),\n",
       "             estimator=RandomForestClassifier(), n_jobs=-1,\n",
       "             param_grid={'bootstrap': [True, False], 'max_depth': [5, 10],\n",
       "                         'max_features': [3, 4, 8], 'min_samples_leaf': [1, 2],\n",
       "                         'min_samples_split': [2, 5],\n",
       "                         'n_estimators': [50, 100]},\n",
       "             verbose=2)"
      ]
     },
     "execution_count": 78,
     "metadata": {},
     "output_type": "execute_result"
    }
   ],
   "source": [
    "rf_tuned = GridSearchCV(estimator=rf_model, param_grid=random_grid, cv=folds, n_jobs=-1, verbose=2)\n",
    "rf_tuned"
   ]
  },
  {
   "cell_type": "markdown",
   "id": "6946f4c7",
   "metadata": {},
   "source": [
    "fitting our data into the tuned model to find best performing parameters:"
   ]
  },
  {
   "cell_type": "code",
   "execution_count": 79,
   "id": "7f4d4550",
   "metadata": {},
   "outputs": [
    {
     "name": "stdout",
     "output_type": "stream",
     "text": [
      "Fitting 2 folds for each of 96 candidates, totalling 192 fits\n"
     ]
    },
    {
     "data": {
      "text/plain": [
       "GridSearchCV(cv=KFold(n_splits=2, random_state=42, shuffle=True),\n",
       "             estimator=RandomForestClassifier(), n_jobs=-1,\n",
       "             param_grid={'bootstrap': [True, False], 'max_depth': [5, 10],\n",
       "                         'max_features': [3, 4, 8], 'min_samples_leaf': [1, 2],\n",
       "                         'min_samples_split': [2, 5],\n",
       "                         'n_estimators': [50, 100]},\n",
       "             verbose=2)"
      ]
     },
     "execution_count": 79,
     "metadata": {},
     "output_type": "execute_result"
    }
   ],
   "source": [
    "rf_tuned.fit(X_sm, y_sm.values.ravel())"
   ]
  },
  {
   "cell_type": "markdown",
   "id": "5f2fe565",
   "metadata": {},
   "source": [
    "Creating data frame to view all results:"
   ]
  },
  {
   "cell_type": "code",
   "execution_count": 80,
   "id": "df8acc98",
   "metadata": {},
   "outputs": [
    {
     "data": {
      "text/html": [
       "<div>\n",
       "<style scoped>\n",
       "    .dataframe tbody tr th:only-of-type {\n",
       "        vertical-align: middle;\n",
       "    }\n",
       "\n",
       "    .dataframe tbody tr th {\n",
       "        vertical-align: top;\n",
       "    }\n",
       "\n",
       "    .dataframe thead th {\n",
       "        text-align: right;\n",
       "    }\n",
       "</style>\n",
       "<table border=\"1\" class=\"dataframe\">\n",
       "  <thead>\n",
       "    <tr style=\"text-align: right;\">\n",
       "      <th></th>\n",
       "      <th>mean_fit_time</th>\n",
       "      <th>std_fit_time</th>\n",
       "      <th>mean_score_time</th>\n",
       "      <th>std_score_time</th>\n",
       "      <th>param_bootstrap</th>\n",
       "      <th>param_max_depth</th>\n",
       "      <th>param_max_features</th>\n",
       "      <th>param_min_samples_leaf</th>\n",
       "      <th>param_min_samples_split</th>\n",
       "      <th>param_n_estimators</th>\n",
       "      <th>params</th>\n",
       "      <th>split0_test_score</th>\n",
       "      <th>split1_test_score</th>\n",
       "      <th>mean_test_score</th>\n",
       "      <th>std_test_score</th>\n",
       "      <th>rank_test_score</th>\n",
       "    </tr>\n",
       "  </thead>\n",
       "  <tbody>\n",
       "    <tr>\n",
       "      <th>0</th>\n",
       "      <td>0.763822</td>\n",
       "      <td>0.007957</td>\n",
       "      <td>0.080986</td>\n",
       "      <td>0.006528</td>\n",
       "      <td>True</td>\n",
       "      <td>5</td>\n",
       "      <td>3</td>\n",
       "      <td>1</td>\n",
       "      <td>2</td>\n",
       "      <td>50</td>\n",
       "      <td>{'bootstrap': True, 'max_depth': 5, 'max_featu...</td>\n",
       "      <td>0.991158</td>\n",
       "      <td>0.988064</td>\n",
       "      <td>0.989611</td>\n",
       "      <td>0.001547</td>\n",
       "      <td>86</td>\n",
       "    </tr>\n",
       "    <tr>\n",
       "      <th>1</th>\n",
       "      <td>1.589564</td>\n",
       "      <td>0.049993</td>\n",
       "      <td>0.154557</td>\n",
       "      <td>0.012139</td>\n",
       "      <td>True</td>\n",
       "      <td>5</td>\n",
       "      <td>3</td>\n",
       "      <td>1</td>\n",
       "      <td>2</td>\n",
       "      <td>100</td>\n",
       "      <td>{'bootstrap': True, 'max_depth': 5, 'max_featu...</td>\n",
       "      <td>0.991379</td>\n",
       "      <td>0.989169</td>\n",
       "      <td>0.990274</td>\n",
       "      <td>0.001105</td>\n",
       "      <td>72</td>\n",
       "    </tr>\n",
       "  </tbody>\n",
       "</table>\n",
       "</div>"
      ],
      "text/plain": [
       "   mean_fit_time  std_fit_time  mean_score_time  std_score_time  \\\n",
       "0       0.763822      0.007957         0.080986        0.006528   \n",
       "1       1.589564      0.049993         0.154557        0.012139   \n",
       "\n",
       "  param_bootstrap param_max_depth param_max_features param_min_samples_leaf  \\\n",
       "0            True               5                  3                      1   \n",
       "1            True               5                  3                      1   \n",
       "\n",
       "  param_min_samples_split param_n_estimators  \\\n",
       "0                       2                 50   \n",
       "1                       2                100   \n",
       "\n",
       "                                              params  split0_test_score  \\\n",
       "0  {'bootstrap': True, 'max_depth': 5, 'max_featu...           0.991158   \n",
       "1  {'bootstrap': True, 'max_depth': 5, 'max_featu...           0.991379   \n",
       "\n",
       "   split1_test_score  mean_test_score  std_test_score  rank_test_score  \n",
       "0           0.988064         0.989611        0.001547               86  \n",
       "1           0.989169         0.990274        0.001105               72  "
      ]
     },
     "execution_count": 80,
     "metadata": {},
     "output_type": "execute_result"
    }
   ],
   "source": [
    "cv_results = pd.DataFrame(rf_tuned.cv_results_)\n",
    "cv_results.head(2)"
   ]
  },
  {
   "cell_type": "markdown",
   "id": "81d1db23",
   "metadata": {},
   "source": [
    "Summary of best results:"
   ]
  },
  {
   "cell_type": "code",
   "execution_count": 81,
   "id": "9b95c3db",
   "metadata": {},
   "outputs": [
    {
     "name": "stdout",
     "output_type": "stream",
     "text": [
      "The best test score is 0.998894783377542 corresponding to hyperparameters {'bootstrap': False, 'max_depth': 10, 'max_features': 8, 'min_samples_leaf': 1, 'min_samples_split': 2, 'n_estimators': 100}\n"
     ]
    }
   ],
   "source": [
    "best_score = rf_tuned.best_score_\n",
    "best_hyperparams = rf_tuned.best_params_\n",
    "\n",
    "print(\"The best test score is {0} corresponding to hyperparameters {1}\".format\n",
    "      (best_score, best_hyperparams))"
   ]
  },
  {
   "cell_type": "markdown",
   "id": "939f65b9",
   "metadata": {},
   "source": [
    "<b> Building Random Forest model with best parameters found </b>"
   ]
  },
  {
   "cell_type": "code",
   "execution_count": 82,
   "id": "4afc2eb6",
   "metadata": {},
   "outputs": [],
   "source": [
    "best_params = {'bootstrap': False, 'max_depth': 10, 'max_features': 8, 'min_samples_leaf': 2,\n",
    "               'min_samples_split': 2, 'n_estimators': 50}\n",
    "\n",
    "# creating model with best parameters\n",
    "rf_model = RandomForestClassifier(bootstrap = False, max_depth = 10, max_features = 8,\n",
    "                                  min_samples_leaf = 2, min_samples_split = 2, n_estimators = 50)\n",
    "\n",
    "rf_model.fit(X_sm, y_sm.values.ravel())\n",
    "y_pred_rf = rf_model.predict(X_test)"
   ]
  },
  {
   "cell_type": "code",
   "execution_count": 83,
   "id": "15fe89cc",
   "metadata": {},
   "outputs": [
    {
     "name": "stdout",
     "output_type": "stream",
     "text": [
      "Training set score: 0.9996\n",
      "Test set score: 0.9968\n"
     ]
    }
   ],
   "source": [
    "print('Training set score: {:.4f}'.format(rf_model.score(X_train, y_train)))\n",
    "print('Test set score: {:.4f}'.format(rf_model.score(X_test, y_test)))"
   ]
  },
  {
   "cell_type": "markdown",
   "id": "208b037b",
   "metadata": {},
   "source": [
    "<b> Random Forest model evaluation </b>"
   ]
  },
  {
   "cell_type": "code",
   "execution_count": 84,
   "id": "bae36fbd",
   "metadata": {},
   "outputs": [
    {
     "name": "stdout",
     "output_type": "stream",
     "text": [
      "Accuracy of Random Forest with best parameters -  0.9968379446640316\n",
      "Precision of Random Forest with best parameters -  0.9929078014184397\n",
      "Sensitivity/recall of Random Forest with best parameters -  0.9790209790209791\n",
      "F1 score of Random Forest with best parameters -  0.9859154929577465\n"
     ]
    }
   ],
   "source": [
    "rf_model_accuracy = metrics.accuracy_score(y_test, y_pred_rf)\n",
    "rf_model_precision = metrics.precision_score(y_test, y_pred_rf)\n",
    "rf_model_recall = metrics.recall_score(y_test, y_pred_rf)\n",
    "rf_model_f1 = metrics.f1_score(y_test, y_pred_rf)\n",
    "\n",
    "print(\"Accuracy of Random Forest with best parameters - \"   , rf_model_accuracy)\n",
    "print(\"Precision of Random Forest with best parameters - \", rf_model_precision)\n",
    "print(\"Sensitivity/recall of Random Forest with best parameters - \", rf_model_recall)\n",
    "print('F1 score of Random Forest with best parameters - ', rf_model_f1)"
   ]
  },
  {
   "cell_type": "markdown",
   "id": "d9191f14",
   "metadata": {},
   "source": [
    "Confusion Matrix:"
   ]
  },
  {
   "cell_type": "code",
   "execution_count": 85,
   "id": "cb12a7dc",
   "metadata": {},
   "outputs": [
    {
     "name": "stdout",
     "output_type": "stream",
     "text": [
      "              precision    recall  f1-score   support\n",
      "\n",
      "           0       1.00      1.00      1.00      1122\n",
      "           1       0.99      0.98      0.99       143\n",
      "\n",
      "    accuracy                           1.00      1265\n",
      "   macro avg       1.00      0.99      0.99      1265\n",
      "weighted avg       1.00      1.00      1.00      1265\n",
      "\n",
      "[[1121    1]\n",
      " [   3  140]]\n"
     ]
    }
   ],
   "source": [
    "print(classification_report(y_test, y_pred_rf))\n",
    "print(metrics.confusion_matrix(y_test, y_pred_rf))"
   ]
  },
  {
   "cell_type": "code",
   "execution_count": 86,
   "id": "bad44dbe",
   "metadata": {},
   "outputs": [
    {
     "data": {
      "text/plain": [
       "<AxesSubplot:>"
      ]
     },
     "execution_count": 86,
     "metadata": {},
     "output_type": "execute_result"
    },
    {
     "data": {
      "image/png": "[encoded data removed]",
      "text/plain": [
       "<Figure size 720x432 with 2 Axes>"
      ]
     },
     "metadata": {},
     "output_type": "display_data"
    }
   ],
   "source": [
    "cm = confusion_matrix(y_test, y_pred_rf)\n",
    "sns.set(rc={'figure.figsize':(10,6)})\n",
    "colors = [\"#bdbdbd\", \"#636363\"]\n",
    "sns.set_palette(sns.color_palette(colors))\n",
    "sns.heatmap(cm, annot=True, fmt='g', cmap='RdGy')"
   ]
  },
  {
   "cell_type": "markdown",
   "id": "bd05de38",
   "metadata": {},
   "source": [
    "Explanation of confusion matrix: We had 1265 observations for the testing (y_test). 1122 bids predicteded correctly as normal (0), 4 were classified as anomalous (1) but actually they were normal bids (type II error). 139 bids correctly predicted to be anomalous, 0 bids were classified as normal but they were actually anomalous (type I error)."
   ]
  },
  {
   "cell_type": "code",
   "execution_count": 87,
   "id": "927aed01",
   "metadata": {},
   "outputs": [
    {
     "data": {
      "image/png": "[encoded data removed]",
      "text/plain": [
       "<Figure size 720x432 with 1 Axes>"
      ]
     },
     "metadata": {},
     "output_type": "display_data"
    }
   ],
   "source": [
    "y_pred_proba = rf_model.predict_proba(X_test)[::,1]\n",
    "fpr, tpr, _ = metrics.roc_curve(y_test,  y_pred_proba)\n",
    "\n",
    "#create ROC curve\n",
    "plt.plot(fpr,tpr, color='r')\n",
    "plt.ylabel('True Positive Rate')\n",
    "plt.xlabel('False Positive Rate')\n",
    "plt.show()"
   ]
  },
  {
   "cell_type": "markdown",
   "id": "8c2eef3f",
   "metadata": {},
   "source": [
    "#### E: Implementing Naive Bayes model"
   ]
  },
  {
   "cell_type": "markdown",
   "id": "3c0868ea",
   "metadata": {},
   "source": [
    "It is a classification technique based on Bayes’ Theorem with an assumption of independence among predictors. A Naive Bayes classifier assumes that the presence of a particular feature in a class is unrelated to the presence of any other feature.<br>\n",
    "(Ray, S. (2017))"
   ]
  },
  {
   "cell_type": "markdown",
   "id": "25d2e58e",
   "metadata": {},
   "source": [
    "<b> Advantages of Naive Bayes </b>\n",
    "\n",
    "1. When assumption of independent predictors holds true, a Naive Bayes classifier performs better as compared to other models.\n",
    "\n",
    "2. Naive Bayes requires a small amount of training data to estimate the test data. So, the training period is less.\n",
    "\n",
    "3. Naive Bayes is also easy to implement."
   ]
  },
  {
   "cell_type": "markdown",
   "id": "7f8c1f88",
   "metadata": {},
   "source": [
    "<b> Disadvantages of Naive Bayes </b>\n",
    "\n",
    "1. Main imitation of Naive Bayes is the assumption of independent predictors. Naive Bayes implicitly assumes that all the attributes are mutually independent. In real life, it is almost impossible that we get a set of predictors which are completely independent.\n",
    "\n",
    "2. If categorical variable has a category in test data set, which was not observed in training data set, then model will assign a 0 (zero) probability and will be unable to make a prediction. This is often known as Zero Frequency. To solve this, we can use the smoothing technique. One of the simplest smoothing techniques is called Laplace estimation.<br>\n",
    "(Kumar, N. (2019)\n"
   ]
  },
  {
   "cell_type": "markdown",
   "id": "26a4ccc5",
   "metadata": {},
   "source": [
    "importing classifier from sklearn library"
   ]
  },
  {
   "cell_type": "code",
   "execution_count": 88,
   "id": "e3d1a530",
   "metadata": {},
   "outputs": [],
   "source": [
    "from sklearn.naive_bayes import GaussianNB"
   ]
  },
  {
   "cell_type": "markdown",
   "id": "91c4489d",
   "metadata": {},
   "source": [
    "creating classifier"
   ]
  },
  {
   "cell_type": "code",
   "execution_count": 89,
   "id": "4443b001",
   "metadata": {},
   "outputs": [],
   "source": [
    "nb_model = GaussianNB()"
   ]
  },
  {
   "cell_type": "markdown",
   "id": "4eee1626",
   "metadata": {},
   "source": [
    "fitting data into the classifier:"
   ]
  },
  {
   "cell_type": "code",
   "execution_count": 90,
   "id": "16c99caa",
   "metadata": {},
   "outputs": [
    {
     "data": {
      "text/plain": [
       "GaussianNB()"
      ]
     },
     "execution_count": 90,
     "metadata": {},
     "output_type": "execute_result"
    }
   ],
   "source": [
    "nb_model.fit(X_sm, y_sm)"
   ]
  },
  {
   "cell_type": "code",
   "execution_count": 91,
   "id": "116305e9",
   "metadata": {},
   "outputs": [],
   "source": [
    "nb_y_pred = nb_model.predict(X_test)\n"
   ]
  },
  {
   "cell_type": "code",
   "execution_count": 92,
   "id": "ed8790a1",
   "metadata": {},
   "outputs": [
    {
     "name": "stdout",
     "output_type": "stream",
     "text": [
      "Training set score: 0.9814\n",
      "Test set score: 0.9668\n"
     ]
    }
   ],
   "source": [
    "print('Training set score: {:.4f}'.format(nb_model.score(X_sm, y_sm)))\n",
    "print('Test set score: {:.4f}'.format(nb_model.score(X_test, y_test)))"
   ]
  },
  {
   "cell_type": "markdown",
   "id": "2021b752",
   "metadata": {},
   "source": [
    "<b>  Naive Bayes model evaluation </b>"
   ]
  },
  {
   "cell_type": "code",
   "execution_count": 93,
   "id": "3526d276",
   "metadata": {},
   "outputs": [
    {
     "name": "stdout",
     "output_type": "stream",
     "text": [
      "Accuracy of Naive Bayes with default parameters -  0.966798418972332\n",
      "Precision of Naive Bayes with default parameters -  0.772972972972973\n",
      "Sensitivity/recall of Naive Bayes with default parameters -  1.0\n",
      "F1 score of Naive Bayes with default parameters -  0.871951219512195\n"
     ]
    }
   ],
   "source": [
    "nb_model_accuracy = metrics.accuracy_score(y_test, nb_y_pred)\n",
    "nb_model_precision = metrics.precision_score(y_test, nb_y_pred)\n",
    "nb_model_recall = metrics.recall_score(y_test, nb_y_pred)\n",
    "nb_model_f1 = metrics.f1_score(y_test, nb_y_pred)\n",
    "\n",
    "print(\"Accuracy of Naive Bayes with default parameters - \"   , nb_model_accuracy)\n",
    "print(\"Precision of Naive Bayes with default parameters - \", nb_model_precision)\n",
    "print(\"Sensitivity/recall of Naive Bayes with default parameters - \", nb_model_recall)\n",
    "print('F1 score of Naive Bayes with default parameters - ', nb_model_f1)"
   ]
  },
  {
   "cell_type": "markdown",
   "id": "5e5a80c1",
   "metadata": {},
   "source": [
    "Confusion Matrix"
   ]
  },
  {
   "cell_type": "code",
   "execution_count": 94,
   "id": "7d4e2c56",
   "metadata": {},
   "outputs": [
    {
     "name": "stdout",
     "output_type": "stream",
     "text": [
      "              precision    recall  f1-score   support\n",
      "\n",
      "           0       1.00      0.96      0.98      1122\n",
      "           1       0.77      1.00      0.87       143\n",
      "\n",
      "    accuracy                           0.97      1265\n",
      "   macro avg       0.89      0.98      0.93      1265\n",
      "weighted avg       0.97      0.97      0.97      1265\n",
      "\n",
      "[[1080   42]\n",
      " [   0  143]]\n"
     ]
    }
   ],
   "source": [
    "print(classification_report(y_test, nb_y_pred))\n",
    "print(metrics.confusion_matrix(y_test, nb_y_pred))"
   ]
  },
  {
   "cell_type": "code",
   "execution_count": 95,
   "id": "27f0ef12",
   "metadata": {},
   "outputs": [
    {
     "data": {
      "text/plain": [
       "<AxesSubplot:>"
      ]
     },
     "execution_count": 95,
     "metadata": {},
     "output_type": "execute_result"
    },
    {
     "data": {
      "image/png": "[encoded data removed]",
      "text/plain": [
       "<Figure size 720x432 with 2 Axes>"
      ]
     },
     "metadata": {},
     "output_type": "display_data"
    }
   ],
   "source": [
    "cm = confusion_matrix(y_test, nb_y_pred)\n",
    "sns.set(rc={'figure.figsize':(10,6)})\n",
    "colors = [\"#bdbdbd\", \"#636363\"]\n",
    "sns.set_palette(sns.color_palette(colors))\n",
    "sns.heatmap(cm, annot=True, fmt='g', cmap='RdGy')"
   ]
  },
  {
   "cell_type": "markdown",
   "id": "d0b3b268",
   "metadata": {},
   "source": [
    "Explanation of confusion matrix: We had 1265 observations for the testing (y_test). 1080 bids predicteded correctly as normal (0), 0 were classified as anomalous (1) but actually they were normal bids (type II error). 143 bids correctly predicted to be anomalous, 42 bids were classified as normal but they were actually anomalous (type I error)."
   ]
  },
  {
   "cell_type": "code",
   "execution_count": 96,
   "id": "36600891",
   "metadata": {},
   "outputs": [
    {
     "data": {
      "image/png": "[encoded data removed]",
      "text/plain": [
       "<Figure size 720x432 with 1 Axes>"
      ]
     },
     "metadata": {},
     "output_type": "display_data"
    }
   ],
   "source": [
    "y_pred_proba = nb_model.predict_proba(X_test)[::,1]\n",
    "fpr, tpr, _ = metrics.roc_curve(y_test,  y_pred_proba)\n",
    "\n",
    "#create ROC curve\n",
    "plt.plot(fpr,tpr, color='r')\n",
    "plt.ylabel('True Positive Rate')\n",
    "plt.xlabel('False Positive Rate')\n",
    "plt.show()"
   ]
  },
  {
   "cell_type": "markdown",
   "id": "c4a1caec",
   "metadata": {},
   "source": [
    "#### F: Model Comparison "
   ]
  },
  {
   "cell_type": "code",
   "execution_count": 97,
   "id": "19180f8d",
   "metadata": {},
   "outputs": [
    {
     "data": {
      "text/html": [
       "<div>\n",
       "<style scoped>\n",
       "    .dataframe tbody tr th:only-of-type {\n",
       "        vertical-align: middle;\n",
       "    }\n",
       "\n",
       "    .dataframe tbody tr th {\n",
       "        vertical-align: top;\n",
       "    }\n",
       "\n",
       "    .dataframe thead th {\n",
       "        text-align: right;\n",
       "    }\n",
       "</style>\n",
       "<table border=\"1\" class=\"dataframe\">\n",
       "  <thead>\n",
       "    <tr style=\"text-align: right;\">\n",
       "      <th></th>\n",
       "      <th>Model</th>\n",
       "      <th>Accuracy Score</th>\n",
       "      <th>Precision</th>\n",
       "      <th>Recall</th>\n",
       "      <th>F1 Score</th>\n",
       "    </tr>\n",
       "  </thead>\n",
       "  <tbody>\n",
       "    <tr>\n",
       "      <th>0</th>\n",
       "      <td>Random Forest</td>\n",
       "      <td>0.996838</td>\n",
       "      <td>0.992908</td>\n",
       "      <td>0.979021</td>\n",
       "      <td>0.985915</td>\n",
       "    </tr>\n",
       "    <tr>\n",
       "      <th>1</th>\n",
       "      <td>SVM</td>\n",
       "      <td>0.981028</td>\n",
       "      <td>0.860606</td>\n",
       "      <td>0.993007</td>\n",
       "      <td>0.922078</td>\n",
       "    </tr>\n",
       "    <tr>\n",
       "      <th>2</th>\n",
       "      <td>Naive Bayes</td>\n",
       "      <td>0.966798</td>\n",
       "      <td>0.772973</td>\n",
       "      <td>1.000000</td>\n",
       "      <td>0.871951</td>\n",
       "    </tr>\n",
       "  </tbody>\n",
       "</table>\n",
       "</div>"
      ],
      "text/plain": [
       "           Model  Accuracy Score  Precision    Recall  F1 Score\n",
       "0  Random Forest        0.996838   0.992908  0.979021  0.985915\n",
       "1            SVM        0.981028   0.860606  0.993007  0.922078\n",
       "2    Naive Bayes        0.966798   0.772973  1.000000  0.871951"
      ]
     },
     "execution_count": 97,
     "metadata": {},
     "output_type": "execute_result"
    }
   ],
   "source": [
    "Model_Comparison = pd.DataFrame({\n",
    "'Model' : ['SVM', 'Random Forest', 'Naive Bayes'],\n",
    "'Accuracy Score' : [svc_model_accuracy, rf_model_accuracy, nb_model_accuracy],\n",
    "'Precision' : [svc_model_precision, rf_model_precision, nb_model_precision],\n",
    "'Recall': [svc_model_recall, rf_model_recall, nb_model_recall],\n",
    "'F1 Score': [svc_model_f1, rf_model_f1, nb_model_f1]})\n",
    "Model_Comparison_df = Model_Comparison.sort_values(by='Accuracy Score', ascending=False)\n",
    "Model_Comparison_df = Model_Comparison_df.set_index('Model')\n",
    "Model_Comparison_df.reset_index()"
   ]
  },
  {
   "cell_type": "code",
   "execution_count": 98,
   "id": "1e2323da",
   "metadata": {},
   "outputs": [
    {
     "data": {
      "text/plain": [
       "<AxesSubplot:ylabel='Model'>"
      ]
     },
     "execution_count": 98,
     "metadata": {},
     "output_type": "execute_result"
    },
    {
     "data": {
      "image/png": "[encoded data removed]",
      "text/plain": [
       "<Figure size 720x432 with 2 Axes>"
      ]
     },
     "metadata": {},
     "output_type": "display_data"
    }
   ],
   "source": [
    "sns.set(rc={'figure.figsize':(10,6)})\n",
    "sns.heatmap(Model_Comparison_df, annot=True, cmap='RdGy')"
   ]
  },
  {
   "cell_type": "markdown",
   "id": "34bf69ca",
   "metadata": {},
   "source": [
    "After comparison of the models, evaluation of their results we can conclude that all three of them performed extremely well, where the best results were achieved by using Random Forest algorithm."
   ]
  },
  {
   "cell_type": "markdown",
   "id": "5393e864",
   "metadata": {},
   "source": [
    "### Part 7: Findings and conclusion:"
   ]
  },
  {
   "cell_type": "markdown",
   "id": "7abf0a89",
   "metadata": {},
   "source": [
    "-\tOur dataset was already very well pre-processed (no missing or duplicated values, cleaned and scaled).\n",
    "It required minimum workload to prepare the dataset for our analysis.\n",
    "-\tThe class distribution was highly unbalanced, and I have applied SMOTE up sampling to the X train dataset.\n",
    "-\tPCA as the dimensionality reduction tool proved to be not of use for this dataset, but it allowed us to visualize the separation of the classes pretty well.\n",
    "-\tApplication of LDA proved that LDA is best of use for the multiclass problems, which our was not.\n",
    "-\tFor the Machine learning purposes I have used our prepared data but with no dimensionality reduction.\n",
    "One step could be considered here is to remove the features with the weakest correlation towards the Class, but I have not done that in this project as I could see that the results are very good without even trying to select best features.\n",
    "-\tFor the prediction purposes the best model to use was RandomForest after hyper tunning.\n",
    "\n"
   ]
  },
  {
   "cell_type": "markdown",
   "id": "e7bf1d5e",
   "metadata": {},
   "source": [
    "### References:\n"
   ]
  },
  {
   "cell_type": "markdown",
   "id": "dab934bb",
   "metadata": {},
   "source": [
    "- Saxena, S. (2020). Here’s All you Need to Know About Encoding Categorical Data (with Python code). Available: https://www.analyticsvidhya.com/blog/2020/08/types-of-categorical-data-encoding/. Last accessed 10 Jan 2022.\n",
    "- McGinnis, W. (2016). BaseN. Available: https://contrib.scikit-learn.org/category_encoders/basen.html. Last accessed 11 Jan 2022.\n",
    "- VanderPlas, J (2016). Python Data Science Handbook. USA: O'Reilly Media, Inc.. In Depth: Principal Component Analysis.\n",
    "unknown. (2008). Linear and Quadratic Discriminant Analysis¶. Available: https://scikit-learn.org/stable/modules/lda_qda.html. Last accessed 11 Jan 2022.\n",
    "- Gudiksen, M.. (2021). Linear Discriminant Analysis (LDA), Maximum Class Separation!. Available: https://medium.com/mlearning-ai/linear-discriminant-analysis-lda-maximum-class-separation-1c3e2f66d846. Last accessed 12 Jan 2022.\n",
    "- Brownlee, J. (2020). Supervised and Unsupervised Machine Learning Algorithms. Available: https://machinelearningmastery.com/supervised-and-unsupervised-machine-learning-algorithms/. Last accessed 12 Jan 2022.\n",
    "- Kumar, N. (2019). Advantages and Disadvantages of SVM (Support Vector Machine) in Machine Learning. Available: http://theprofessionalspoint.blogspot.com/2019/03/advantages-and-disadvantages-of-svm.html. Last accessed 12 Jan 2022.\n",
    "- Sreenivasa, S. (2020). Radial Basis Function (RBF) Kernel: The Go-To Kernel. Available: https://towardsdatascience.com/radial-basis-function-rbf-kernel-the-go-to-kernel-acf0d22c798a. Last accessed 12 Jan 2022.\n",
    "- Yiu, T. (2019). Understanding Random Forest. Available: https://towardsdatascience.com/understanding-random-forest-58381e0602d2. Last accessed 12 Jan 2022.\n",
    "- Kumar, N. (2019). Advantages and Disadvantages of Random Forest Algorithm in Machine Learning. Available: http://theprofessionalspoint.blogspot.com/2019/02/advantages-and-disadvantages-of-random.html. Last accessed 12 Jan 2022.\n",
    "- Ray, S. (2017). 6 Easy Steps to Learn Naive Bayes Algorithm with codes in Python and R. Available: https://www.analyticsvidhya.com/blog/2017/09/naive-bayes-explained/. Last accessed 12 Jan 2022.\n",
    "- Kumar, N. (2019). Advantages and Disadvantages of Naive Bayes in Machine Learning. Available: http://theprofessionalspoint.blogspot.com/2019/03/advantages-and-disadvantages-of-naive.html. Last accessed 12 Jan 2022.\n",
    "- Alencar, R. (2018). Resampling strategies for imbalanced datasets. Available: https://www.kaggle.com/rafjaa/resampling-strategies-for-imbalanced-datasets. Last accessed 12 Jan 2022.\n"
   ]
  },
  {
   "cell_type": "code",
   "execution_count": null,
   "id": "f4269bae",
   "metadata": {},
   "outputs": [],
   "source": []
  }
 ],
 "metadata": {
  "kernelspec": {
   "display_name": "Python 3 (ipykernel)",
   "language": "python",
   "name": "python3"
  },
  "language_info": {
   "codemirror_mode": {
    "name": "ipython",
    "version": 3
   },
   "file_extension": ".py",
   "mimetype": "text/x-python",
   "name": "python",
   "nbconvert_exporter": "python",
   "pygments_lexer": "ipython3",
   "version": "3.9.7"
  }
 },
 "nbformat": 4,
 "nbformat_minor": 5
}
